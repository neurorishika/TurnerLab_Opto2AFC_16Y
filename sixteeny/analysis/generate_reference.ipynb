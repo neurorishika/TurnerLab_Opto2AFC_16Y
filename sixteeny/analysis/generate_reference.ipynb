{
 "cells": [
  {
   "cell_type": "code",
   "execution_count": 23,
   "metadata": {},
   "outputs": [
    {
     "data": {
      "image/png": "[encoded data removed]",
      "text/plain": [
       "<Figure size 432x288 with 1 Axes>"
      ]
     },
     "metadata": {
      "needs_background": "light"
     },
     "output_type": "display_data"
    }
   ],
   "source": [
    "import numpy as np\n",
    "import matplotlib.pyplot as plt\n",
    "\n",
    "arm_length = 1.0\n",
    "arm_width = 0.3\n",
    "reward_distance = 0.8\n",
    "origin = np.array([0.0, 0.0])\n",
    "\n",
    "# get three corners of a triangle\n",
    "k1 = origin + arm_width/np.sqrt(3) * np.array([np.cos(np.pi/2+2*np.pi/3), np.sin(np.pi/2+2*np.pi/3)])\n",
    "k2 = origin + arm_width/np.sqrt(3) * np.array([np.cos(np.pi/2+4*np.pi/3), np.sin(np.pi/2+4*np.pi/3)])\n",
    "k3 = origin + arm_width/np.sqrt(3) * np.array([np.cos(np.pi/2), np.sin(np.pi/2)])\n",
    "\n",
    "# get the endpoints of the arm\n",
    "k4 = origin + arm_length * np.array([np.cos(np.pi/6+2*np.pi/3), np.sin(np.pi/6+2*np.pi/3)])\n",
    "k5 = origin + arm_length * np.array([np.cos(np.pi/6+4*np.pi/3), np.sin(np.pi/6+4*np.pi/3)])\n",
    "k6 = origin + arm_length * np.array([np.cos(np.pi/6), np.sin(np.pi/6)])\n",
    "\n",
    "# plot the triangles\n",
    "for i,k in enumerate([k1, k2, k3, k4, k5, k6]):\n",
    "    plt.plot(k[0], k[1], 'o')\n",
    "    plt.text(k[0] + 0.05, k[1] + 0.05, str(i+1))\n",
    "\n",
    "plt.gca().set_aspect('equal')\n",
    "plt.box()\n",
    "plt.show()\n",
    "\n",
    "points = np.array([k1, k2, k3, k4, k5, k6])"
   ]
  },
  {
   "cell_type": "code",
   "execution_count": 30,
   "metadata": {},
   "outputs": [
    {
     "data": {
      "image/png": "[encoded data removed]",
      "text/plain": [
       "<Figure size 432x288 with 1 Axes>"
      ]
     },
     "metadata": {
      "needs_background": "light"
     },
     "output_type": "display_data"
    }
   ],
   "source": [
    "# generate a random affine transformation using skimage.transform\n",
    "\n",
    "from skimage.transform import AffineTransform\n",
    "\n",
    "test_transform = AffineTransform(scale=(2.0, 2.0), rotation=np.pi/6, translation=(0.0, 0.0))\n",
    "transformed_points = test_transform(points)\n",
    "\n",
    "# estimate the inverse transform\n",
    "from skimage.transform import estimate_transform\n",
    "\n",
    "inverse_transform = estimate_transform('affine', transformed_points, points)\n",
    "inverse_transformed_points = inverse_transform(transformed_points)\n",
    "\n",
    "# plot the inverse transformed points\n",
    "plt.plot(points[:,0], points[:,1], 'ro')\n",
    "plt.plot(transformed_points[:,0], transformed_points[:,1], 'b^')\n",
    "plt.plot(inverse_transformed_points[:,0], inverse_transformed_points[:,1], 'b+')\n",
    "\n",
    "plt.gca().set_aspect('equal')\n",
    "plt.box()\n",
    "plt.show()\n",
    "\n"
   ]
  },
  {
   "cell_type": "code",
   "execution_count": null,
   "metadata": {},
   "outputs": [],
   "source": []
  }
 ],
 "metadata": {
  "kernelspec": {
   "display_name": "Python 3.9.7 ('base')",
   "language": "python",
   "name": "python3"
  },
  "language_info": {
   "codemirror_mode": {
    "name": "ipython",
    "version": 3
   },
   "file_extension": ".py",
   "mimetype": "text/x-python",
   "name": "python",
   "nbconvert_exporter": "python",
   "pygments_lexer": "ipython3",
   "version": "3.9.7"
  },
  "orig_nbformat": 4,
  "vscode": {
   "interpreter": {
    "hash": "ad2bdc8ecc057115af97d19610ffacc2b4e99fae6737bb82f5d7fb13d2f2c186"
   }
  }
 },
 "nbformat": 4,
 "nbformat_minor": 2
}
