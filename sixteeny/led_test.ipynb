{
 "cells": [
  {
   "cell_type": "code",
   "execution_count": 1,
   "id": "a8d22869-98aa-4134-bc06-3fd2847851c5",
   "metadata": {},
   "outputs": [],
   "source": [
    "from controller.led import LEDController\n",
    "import time\n",
    "\n",
    "IR_INTENSITY = 50\n",
    "RED_INTENSITY = 100\n",
    "GREEN_INTENSITY = 25\n",
    "BLUE_INTENSITY = 25\n",
    "PULSE_WIDTH = 5000\n",
    "PULSE_PERIOD = 10000\n",
    "PULSE_COUNT = 1\n",
    "PULSE_DEADTIME = 0\n",
    "PULSE_DELAY = 0\n",
    "PULSE_REPEAT = 1"
   ]
  },
  {
   "cell_type": "code",
   "execution_count": 2,
   "id": "4354c840-5278-44f0-bafd-a7d097d100ba",
   "metadata": {},
   "outputs": [
    {
     "ename": "KeyboardInterrupt",
     "evalue": "",
     "output_type": "error",
     "traceback": [
      "\u001b[1;31m---------------------------------------------------------------------------\u001b[0m",
      "\u001b[1;31mKeyboardInterrupt\u001b[0m                         Traceback (most recent call last)",
      "\u001b[1;32mz:\\Rishika\\4Y-Maze\\TurnerLab_Opto2AFC_16Y\\sixteeny\\led_test.ipynb Cell 2'\u001b[0m in \u001b[0;36m<cell line: 1>\u001b[1;34m()\u001b[0m\n\u001b[0;32m      <a href='vscode-notebook-cell:/z%3A/Rishika/4Y-Maze/TurnerLab_Opto2AFC_16Y/sixteeny/led_test.ipynb#ch0000001?line=4'>5</a>\u001b[0m     LC\u001b[39m.\u001b[39maccumulate_led_stimulus(arena,\u001b[39mb\u001b[39m\u001b[39m'\u001b[39m\u001b[39mR\u001b[39m\u001b[39m'\u001b[39m,\u001b[39m100\u001b[39m,PULSE_WIDTH,PULSE_PERIOD,PULSE_COUNT,PULSE_DEADTIME,PULSE_DELAY,PULSE_REPEAT)\n\u001b[0;32m      <a href='vscode-notebook-cell:/z%3A/Rishika/4Y-Maze/TurnerLab_Opto2AFC_16Y/sixteeny/led_test.ipynb#ch0000001?line=5'>6</a>\u001b[0m     LC\u001b[39m.\u001b[39mrun_accumulated_led_stimulus()\n\u001b[1;32m----> <a href='vscode-notebook-cell:/z%3A/Rishika/4Y-Maze/TurnerLab_Opto2AFC_16Y/sixteeny/led_test.ipynb#ch0000001?line=6'>7</a>\u001b[0m     time\u001b[39m.\u001b[39;49msleep(\u001b[39m10\u001b[39;49m)\n\u001b[0;32m      <a href='vscode-notebook-cell:/z%3A/Rishika/4Y-Maze/TurnerLab_Opto2AFC_16Y/sixteeny/led_test.ipynb#ch0000001?line=8'>9</a>\u001b[0m time\u001b[39m.\u001b[39msleep(\u001b[39m1\u001b[39m)\n",
      "\u001b[1;31mKeyboardInterrupt\u001b[0m: "
     ]
    }
   ],
   "source": [
    "with LEDController(ports=['COM9','COM5','COM11','COM4']) as LC:\n",
    "    LC.turn_on_backlight(100)\n",
    "\n",
    "    for arena in range(16):\n",
    "        LC.accumulate_led_stimulus(arena,b'R',100,PULSE_WIDTH,PULSE_PERIOD,PULSE_COUNT,PULSE_DEADTIME,PULSE_DELAY,PULSE_REPEAT)\n",
    "        LC.run_accumulated_led_stimulus()\n",
    "        time.sleep(10)\n",
    "    \n",
    "    time.sleep(1)"
   ]
  },
  {
   "cell_type": "code",
   "execution_count": 2,
   "id": "8786a78e-9284-4118-8024-e5c3c38de7ef",
   "metadata": {},
   "outputs": [
    {
     "data": {
      "text/plain": [
       "<controller.led.LEDController at 0x1ef1fbae430>"
      ]
     },
     "execution_count": 2,
     "metadata": {},
     "output_type": "execute_result"
    }
   ],
   "source": [
    "LC = LEDController(ports=['COM9','COM5','COM11','COM4'])\n",
    "LC.__enter__()"
   ]
  },
  {
   "cell_type": "code",
   "execution_count": 3,
   "id": "90c33e06",
   "metadata": {},
   "outputs": [],
   "source": [
    "LC.turn_on_backlight(20)"
   ]
  },
  {
   "cell_type": "code",
   "execution_count": 9,
   "id": "f81352bc",
   "metadata": {},
   "outputs": [],
   "source": [
    "LC.reset_accumulated_led_stimulus()\n",
    "LC.accumulate_led_stimulus(0,b'R',100,PULSE_WIDTH,PULSE_PERIOD,PULSE_COUNT,PULSE_DEADTIME,PULSE_DELAY,PULSE_REPEAT)\n",
    "LC.accumulate_led_stimulus(1,b'R',25,PULSE_WIDTH,PULSE_PERIOD,PULSE_COUNT,PULSE_DEADTIME,PULSE_DELAY,PULSE_REPEAT)\n",
    "LC.accumulate_led_stimulus(2,b'R',10,PULSE_WIDTH,PULSE_PERIOD,PULSE_COUNT,PULSE_DEADTIME,PULSE_DELAY,PULSE_REPEAT)\n",
    "LC.accumulate_led_stimulus(3,b'R',5,PULSE_WIDTH,PULSE_PERIOD,PULSE_COUNT,PULSE_DEADTIME,PULSE_DELAY,PULSE_REPEAT)\n",
    "LC.run_accumulated_led_stimulus()"
   ]
  },
  {
   "cell_type": "code",
   "execution_count": 10,
   "id": "76bbc0c1",
   "metadata": {},
   "outputs": [
    {
     "data": {
      "text/plain": [
       "{0: [[0, 0, 0], [0, 0, 0], [0, 0, 0], [0, 0, 0]],\n",
       " 1: [[0, 0, 0], [0, 0, 0], [0, 0, 0], [0, 0, 0]],\n",
       " 2: [[0, 0, 0], [0, 0, 0], [0, 0, 0], [0, 0, 0]],\n",
       " 3: [[0, 0, 0], [0, 0, 0], [0, 0, 0], [0, 0, 0]]}"
      ]
     },
     "execution_count": 10,
     "metadata": {},
     "output_type": "execute_result"
    }
   ],
   "source": [
    "LC.color_state"
   ]
  },
  {
   "cell_type": "code",
   "execution_count": 11,
   "id": "1a36f5fb",
   "metadata": {},
   "outputs": [
    {
     "data": {
      "text/plain": [
       "{0: [[[0, 0, 0, 0, 0, 0], [0, 0, 0, 0, 0, 0], [0, 0, 0, 0, 0, 0]],\n",
       "  [[0, 0, 0, 0, 0, 0], [0, 0, 0, 0, 0, 0], [0, 0, 0, 0, 0, 0]],\n",
       "  [[0, 0, 0, 0, 0, 0], [0, 0, 0, 0, 0, 0], [0, 0, 0, 0, 0, 0]],\n",
       "  [[0, 0, 0, 0, 0, 0], [0, 0, 0, 0, 0, 0], [0, 0, 0, 0, 0, 0]]],\n",
       " 1: [[[0, 0, 0, 0, 0, 0], [0, 0, 0, 0, 0, 0], [0, 0, 0, 0, 0, 0]],\n",
       "  [[0, 0, 0, 0, 0, 0], [0, 0, 0, 0, 0, 0], [0, 0, 0, 0, 0, 0]],\n",
       "  [[0, 0, 0, 0, 0, 0], [0, 0, 0, 0, 0, 0], [0, 0, 0, 0, 0, 0]],\n",
       "  [[0, 0, 0, 0, 0, 0], [0, 0, 0, 0, 0, 0], [0, 0, 0, 0, 0, 0]]],\n",
       " 2: [[[0, 0, 0, 0, 0, 0], [0, 0, 0, 0, 0, 0], [0, 0, 0, 0, 0, 0]],\n",
       "  [[0, 0, 0, 0, 0, 0], [0, 0, 0, 0, 0, 0], [0, 0, 0, 0, 0, 0]],\n",
       "  [[0, 0, 0, 0, 0, 0], [0, 0, 0, 0, 0, 0], [0, 0, 0, 0, 0, 0]],\n",
       "  [[0, 0, 0, 0, 0, 0], [0, 0, 0, 0, 0, 0], [0, 0, 0, 0, 0, 0]]],\n",
       " 3: [[[0, 0, 0, 0, 0, 0], [0, 0, 0, 0, 0, 0], [0, 0, 0, 0, 0, 0]],\n",
       "  [[0, 0, 0, 0, 0, 0], [0, 0, 0, 0, 0, 0], [0, 0, 0, 0, 0, 0]],\n",
       "  [[0, 0, 0, 0, 0, 0], [0, 0, 0, 0, 0, 0], [0, 0, 0, 0, 0, 0]],\n",
       "  [[0, 0, 0, 0, 0, 0], [0, 0, 0, 0, 0, 0], [0, 0, 0, 0, 0, 0]]]}"
      ]
     },
     "execution_count": 11,
     "metadata": {},
     "output_type": "execute_result"
    }
   ],
   "source": [
    "LC.pulse_state"
   ]
  },
  {
   "cell_type": "code",
   "execution_count": 7,
   "id": "b73142f6",
   "metadata": {},
   "outputs": [
    {
     "name": "stdout",
     "output_type": "stream",
     "text": [
      "Arena: 8 Pulse 500 1000 1 0 0 1 R\n"
     ]
    }
   ],
   "source": [
    "LC.led_stimulation(8,b'R',25,PULSE_WIDTH,PULSE_PERIOD,PULSE_COUNT,PULSE_DEADTIME,PULSE_DELAY,PULSE_REPEAT,debug=True)"
   ]
  },
  {
   "cell_type": "code",
   "execution_count": 22,
   "id": "8e4b9076",
   "metadata": {},
   "outputs": [
    {
     "name": "stdout",
     "output_type": "stream",
     "text": [
      "Arena: 0 Pulse 500 1000 1 0 0 1 R\n",
      "Arena: 1 Pulse 500 1000 1 0 0 1 R\n",
      "Arena: 2 Pulse 500 1000 1 0 0 1 R\n",
      "Arena: 3 Pulse 500 1000 1 0 0 1 R\n",
      "Arena: 4 Pulse 500 1000 1 0 0 1 R\n",
      "Arena: 5 Pulse 500 1000 1 0 0 1 R\n",
      "Arena: 6 Pulse 500 1000 1 0 0 1 R\n",
      "Arena: 7 Pulse 500 1000 1 0 0 1 R\n",
      "Arena: 8 Pulse 500 1000 1 0 0 1 R\n",
      "Arena: 9 Pulse 500 1000 1 0 0 1 R\n",
      "Arena: 10 Pulse 500 1000 1 0 0 1 R\n",
      "Arena: 11 Pulse 500 1000 1 0 0 1 R\n",
      "Arena: 12 Pulse 500 1000 1 0 0 1 R\n",
      "Arena: 13 Pulse 500 1000 1 0 0 1 R\n",
      "Arena: 14 Pulse 500 1000 1 0 0 1 R\n",
      "Arena: 15 Pulse 500 1000 1 0 0 1 R\n"
     ]
    }
   ],
   "source": [
    "for i in range(16):\n",
    "    time.sleep(0.5)\n",
    "    LC.led_stimulation(i,b'R',100,PULSE_WIDTH,PULSE_PERIOD,PULSE_COUNT,PULSE_DEADTIME,PULSE_DELAY,PULSE_REPEAT,debug=True)"
   ]
  },
  {
   "cell_type": "code",
   "execution_count": 10,
   "id": "4fb4bc7e",
   "metadata": {},
   "outputs": [
    {
     "data": {
      "text/plain": [
       "5"
      ]
     },
     "execution_count": 10,
     "metadata": {},
     "output_type": "execute_result"
    }
   ],
   "source": [
    "LC.conns[2].write(b'RESET\\r')\n",
    "LC.conns[2].write(b'RED 25 0 0001\\r')\n",
    "LC.conns[2].write(b'PULSE 500 1000 1 0 0 1 R\\r')\n",
    "LC.conns[2].write(b'RUN \\r')\n",
    "# LC.conns[2].write(b'OFF 0 0001\\r')\n",
    "\n"
   ]
  },
  {
   "cell_type": "code",
   "execution_count": 15,
   "id": "67b8c5a5",
   "metadata": {},
   "outputs": [
    {
     "data": {
      "text/plain": [
       "10"
      ]
     },
     "execution_count": 15,
     "metadata": {},
     "output_type": "execute_result"
    }
   ],
   "source": [
    "LC.conns[2].write(b'RESET\\r')\n",
    "LC.conns[2].write(b'RED 25 0 0001\\r')\n",
    "# LC.conns[2].write(b'ON 0 0001')\n",
    "LC.conns[0].write(b'OFF 0 0001')"
   ]
  },
  {
   "cell_type": "code",
   "execution_count": 14,
   "id": "ee93aa10",
   "metadata": {},
   "outputs": [],
   "source": [
    "for i in range(4):\n",
    "    LC.conns[i].write(b'RESET\\r')\n",
    "    LC.conns[i].write(b'RED 20\\r')\n",
    "    LC.conns[i].write(b'OFF 0 0\\r')\n"
   ]
  },
  {
   "cell_type": "code",
   "execution_count": 10,
   "id": "26133d33-2391-400f-8a50-f6255e462853",
   "metadata": {},
   "outputs": [
    {
     "data": {
      "text/plain": [
       "6"
      ]
     },
     "execution_count": 10,
     "metadata": {},
     "output_type": "execute_result"
    }
   ],
   "source": [
    "LC.conns[2].write(b'RESET\\r')\n",
    "LC.conns[2].write(b'RED 0\\r')\n",
    "LC.conns[2].write(b'RED 20 0 1111\\r')\n",
    "LC.conns[2].write(b'RUN R\\r')\n"
   ]
  },
  {
   "cell_type": "code",
   "execution_count": 11,
   "id": "25e08602",
   "metadata": {},
   "outputs": [],
   "source": [
    "LC.set_led_stimulus_intensity(0,b'R',0)\n",
    "LC.set_led_stimulus_intensity(0,b'R',10)\n",
    "LC.run_led_stimulus(0)"
   ]
  },
  {
   "cell_type": "code",
   "execution_count": 12,
   "id": "c9fbef01",
   "metadata": {},
   "outputs": [
    {
     "data": {
      "text/plain": [
       "Serial<id=0x202562de1c0, open=True>(port='COM5', baudrate=115200, bytesize=8, parity='N', stopbits=1, timeout=None, xonxoff=False, rtscts=False, dsrdtr=False)"
      ]
     },
     "execution_count": 12,
     "metadata": {},
     "output_type": "execute_result"
    }
   ],
   "source": [
    "LC.conns[1]"
   ]
  },
  {
   "cell_type": "code",
   "execution_count": 13,
   "id": "47248529",
   "metadata": {},
   "outputs": [
    {
     "data": {
      "text/plain": [
       "6"
      ]
     },
     "execution_count": 13,
     "metadata": {},
     "output_type": "execute_result"
    }
   ],
   "source": [
    "LC.conns[1].write(b'RED 0\\r')"
   ]
  },
  {
   "cell_type": "code",
   "execution_count": 10,
   "id": "ab86b16d",
   "metadata": {},
   "outputs": [],
   "source": [
    "LC.close()"
   ]
  },
  {
   "cell_type": "code",
   "execution_count": 15,
   "id": "8f4d746c-6ddd-4db1-a9ed-3b03db284a15",
   "metadata": {},
   "outputs": [],
   "source": [
    "import cucim"
   ]
  },
  {
   "cell_type": "code",
   "execution_count": 16,
   "id": "3f829337-90d8-452f-88e3-484083a7198a",
   "metadata": {},
   "outputs": [
    {
     "name": "stdout",
     "output_type": "stream",
     "text": [
      "['COM1', 'COM3', 'COM4', 'COM5', 'COM6']\n"
     ]
    }
   ],
   "source": [
    "import sys\n",
    "import glob\n",
    "import serial\n",
    "\n",
    "\n",
    "def serial_ports():\n",
    "    \"\"\" Lists serial port names\n",
    "\n",
    "        :raises EnvironmentError:\n",
    "            On unsupported or unknown platforms\n",
    "        :returns:\n",
    "            A list of the serial ports available on the system\n",
    "    \"\"\"\n",
    "    if sys.platform.startswith('win'):\n",
    "        ports = ['COM%s' % (i + 1) for i in range(256)]\n",
    "    elif sys.platform.startswith('linux') or sys.platform.startswith('cygwin'):\n",
    "        # this excludes your current terminal \"/dev/tty\"\n",
    "        ports = glob.glob('/dev/tty[A-Za-z]*')\n",
    "    elif sys.platform.startswith('darwin'):\n",
    "        ports = glob.glob('/dev/tty.*')\n",
    "    else:\n",
    "        raise EnvironmentError('Unsupported platform')\n",
    "\n",
    "    result = []\n",
    "    for port in ports:\n",
    "        try:\n",
    "            s = serial.Serial(port)\n",
    "            s.close()\n",
    "            result.append(port)\n",
    "        except (OSError, serial.SerialException):\n",
    "            pass\n",
    "    return result\n",
    "\n",
    "print(serial_ports())"
   ]
  },
  {
   "cell_type": "code",
   "execution_count": null,
   "id": "9047181f",
   "metadata": {},
   "outputs": [],
   "source": []
  }
 ],
 "metadata": {
  "interpreter": {
   "hash": "b058394d25931e71c319b47cfd3747c02c7d6a94f380fc50699f718e2eee9fda"
  },
  "kernelspec": {
   "display_name": "Python 3.8.13 ('sixteenY')",
   "language": "python",
   "name": "python3"
  },
  "language_info": {
   "codemirror_mode": {
    "name": "ipython",
    "version": 3
   },
   "file_extension": ".py",
   "mimetype": "text/x-python",
   "name": "python",
   "nbconvert_exporter": "python",
   "pygments_lexer": "ipython3",
   "version": "3.8.13"
  }
 },
 "nbformat": 4,
 "nbformat_minor": 5
}
