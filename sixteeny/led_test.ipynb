{
 "cells": [
  {
   "cell_type": "code",
   "execution_count": 3,
   "id": "a8d22869-98aa-4134-bc06-3fd2847851c5",
   "metadata": {},
   "outputs": [],
   "source": [
    "from controller.led import LEDController\n",
    "import time\n",
    "\n",
    "IR_INTENSITY = 50\n",
    "RED_INTENSITY = 100\n",
    "GREEN_INTENSITY = 25\n",
    "BLUE_INTENSITY = 25\n",
    "PULSE_WIDTH = 5000\n",
    "PULSE_PERIOD = 10000\n",
    "PULSE_COUNT = 1\n",
    "PULSE_DEADTIME = 0\n",
    "PULSE_DELAY = 0\n",
    "PULSE_REPEAT = 1"
   ]
  },
  {
   "cell_type": "code",
   "execution_count": 4,
   "id": "4354c840-5278-44f0-bafd-a7d097d100ba",
   "metadata": {},
   "outputs": [
    {
     "name": "stdout",
     "output_type": "stream",
     "text": [
      "Arena: 0 Pulse 5000 10000 1 0 0 1 R\n",
      "Arena: 1 Pulse 5000 10000 1 0 0 1 R\n",
      "Arena: 2 Pulse 5000 10000 1 0 0 1 R\n",
      "Arena: 3 Pulse 5000 10000 1 0 0 1 R\n",
      "Arena: 4 Pulse 5000 10000 1 0 0 1 R\n",
      "Arena: 5 Pulse 5000 10000 1 0 0 1 R\n",
      "Arena: 6 Pulse 5000 10000 1 0 0 1 R\n",
      "Arena: 7 Pulse 5000 10000 1 0 0 1 R\n",
      "Arena: 8 Pulse 5000 10000 1 0 0 1 R\n",
      "Arena: 9 Pulse 5000 10000 1 0 0 1 R\n",
      "Arena: 10 Pulse 5000 10000 1 0 0 1 R\n",
      "Arena: 11 Pulse 5000 10000 1 0 0 1 R\n",
      "Arena: 12 Pulse 5000 10000 1 0 0 1 R\n",
      "Arena: 13 Pulse 5000 10000 1 0 0 1 R\n",
      "Arena: 14 Pulse 5000 10000 1 0 0 1 R\n",
      "Arena: 15 Pulse 5000 10000 1 0 0 1 R\n"
     ]
    }
   ],
   "source": [
    "with LEDController(ports=['COM9','COM5','COM11','COM4']) as LC:\n",
    "    LC.turn_on_backlight(100)\n",
    "\n",
    "    for arena in range(16):\n",
    "        LC.led_stimulation(arena,b'R',100,PULSE_WIDTH,PULSE_PERIOD,PULSE_COUNT,PULSE_DEADTIME,PULSE_DELAY,PULSE_REPEAT,debug=True)\n",
    "        time.sleep(10)\n",
    "    \n",
    "    time.sleep(1)"
   ]
  },
  {
   "cell_type": "code",
   "execution_count": 5,
   "id": "8786a78e-9284-4118-8024-e5c3c38de7ef",
   "metadata": {},
   "outputs": [
    {
     "data": {
      "text/plain": [
       "<controller.led.LEDController at 0x1abba655b50>"
      ]
     },
     "execution_count": 5,
     "metadata": {},
     "output_type": "execute_result"
    }
   ],
   "source": [
    "LC = LEDController(ports=['COM9','COM5','COM11','COM4'])\n",
    "LC.__enter__()"
   ]
  },
  {
   "cell_type": "code",
   "execution_count": 7,
   "id": "90c33e06",
   "metadata": {},
   "outputs": [],
   "source": [
    "LC.turn_on_backlight(100)"
   ]
  },
  {
   "cell_type": "code",
   "execution_count": 7,
   "id": "b73142f6",
   "metadata": {},
   "outputs": [
    {
     "name": "stdout",
     "output_type": "stream",
     "text": [
      "Arena: 8 Pulse 500 1000 1 0 0 1 R\n"
     ]
    }
   ],
   "source": [
    "LC.led_stimulation(8,b'R',25,PULSE_WIDTH,PULSE_PERIOD,PULSE_COUNT,PULSE_DEADTIME,PULSE_DELAY,PULSE_REPEAT,debug=True)"
   ]
  },
  {
   "cell_type": "code",
   "execution_count": 22,
   "id": "8e4b9076",
   "metadata": {},
   "outputs": [
    {
     "name": "stdout",
     "output_type": "stream",
     "text": [
      "Arena: 0 Pulse 500 1000 1 0 0 1 R\n",
      "Arena: 1 Pulse 500 1000 1 0 0 1 R\n",
      "Arena: 2 Pulse 500 1000 1 0 0 1 R\n",
      "Arena: 3 Pulse 500 1000 1 0 0 1 R\n",
      "Arena: 4 Pulse 500 1000 1 0 0 1 R\n",
      "Arena: 5 Pulse 500 1000 1 0 0 1 R\n",
      "Arena: 6 Pulse 500 1000 1 0 0 1 R\n",
      "Arena: 7 Pulse 500 1000 1 0 0 1 R\n",
      "Arena: 8 Pulse 500 1000 1 0 0 1 R\n",
      "Arena: 9 Pulse 500 1000 1 0 0 1 R\n",
      "Arena: 10 Pulse 500 1000 1 0 0 1 R\n",
      "Arena: 11 Pulse 500 1000 1 0 0 1 R\n",
      "Arena: 12 Pulse 500 1000 1 0 0 1 R\n",
      "Arena: 13 Pulse 500 1000 1 0 0 1 R\n",
      "Arena: 14 Pulse 500 1000 1 0 0 1 R\n",
      "Arena: 15 Pulse 500 1000 1 0 0 1 R\n"
     ]
    }
   ],
   "source": [
    "for i in range(16):\n",
    "    time.sleep(0.5)\n",
    "    LC.led_stimulation(i,b'R',100,PULSE_WIDTH,PULSE_PERIOD,PULSE_COUNT,PULSE_DEADTIME,PULSE_DELAY,PULSE_REPEAT,debug=True)"
   ]
  },
  {
   "cell_type": "code",
   "execution_count": 10,
   "id": "4fb4bc7e",
   "metadata": {},
   "outputs": [
    {
     "data": {
      "text/plain": [
       "5"
      ]
     },
     "execution_count": 10,
     "metadata": {},
     "output_type": "execute_result"
    }
   ],
   "source": [
    "LC.conns[2].write(b'RESET\\r')\n",
    "LC.conns[2].write(b'RED 25 0 0001\\r')\n",
    "LC.conns[2].write(b'PULSE 500 1000 1 0 0 1 R\\r')\n",
    "LC.conns[2].write(b'RUN \\r')\n",
    "# LC.conns[2].write(b'OFF 0 0001\\r')\n",
    "\n"
   ]
  },
  {
   "cell_type": "code",
   "execution_count": 15,
   "id": "67b8c5a5",
   "metadata": {},
   "outputs": [
    {
     "data": {
      "text/plain": [
       "10"
      ]
     },
     "execution_count": 15,
     "metadata": {},
     "output_type": "execute_result"
    }
   ],
   "source": [
    "LC.conns[2].write(b'RESET\\r')\n",
    "LC.conns[2].write(b'RED 25 0 0001\\r')\n",
    "# LC.conns[2].write(b'ON 0 0001')\n",
    "LC.conns[0].write(b'OFF 0 0001')"
   ]
  },
  {
   "cell_type": "code",
   "execution_count": 14,
   "id": "ee93aa10",
   "metadata": {},
   "outputs": [],
   "source": [
    "for i in range(4):\n",
    "    LC.conns[i].write(b'RESET\\r')\n",
    "    LC.conns[i].write(b'RED 20\\r')\n",
    "    LC.conns[i].write(b'OFF 0 0\\r')\n"
   ]
  },
  {
   "cell_type": "code",
   "execution_count": 10,
   "id": "26133d33-2391-400f-8a50-f6255e462853",
   "metadata": {},
   "outputs": [
    {
     "data": {
      "text/plain": [
       "6"
      ]
     },
     "execution_count": 10,
     "metadata": {},
     "output_type": "execute_result"
    }
   ],
   "source": [
    "LC.conns[2].write(b'RESET\\r')\n",
    "LC.conns[2].write(b'RED 0\\r')\n",
    "LC.conns[2].write(b'RED 20 0 1111\\r')\n",
    "LC.conns[2].write(b'RUN R\\r')\n"
   ]
  },
  {
   "cell_type": "code",
   "execution_count": 11,
   "id": "25e08602",
   "metadata": {},
   "outputs": [],
   "source": [
    "LC.set_led_stimulus_intensity(0,b'R',0)\n",
    "LC.set_led_stimulus_intensity(0,b'R',10)\n",
    "LC.run_led_stimulus(0)"
   ]
  },
  {
   "cell_type": "code",
   "execution_count": 12,
   "id": "c9fbef01",
   "metadata": {},
   "outputs": [
    {
     "data": {
      "text/plain": [
       "Serial<id=0x202562de1c0, open=True>(port='COM5', baudrate=115200, bytesize=8, parity='N', stopbits=1, timeout=None, xonxoff=False, rtscts=False, dsrdtr=False)"
      ]
     },
     "execution_count": 12,
     "metadata": {},
     "output_type": "execute_result"
    }
   ],
   "source": [
    "LC.conns[1]"
   ]
  },
  {
   "cell_type": "code",
   "execution_count": 13,
   "id": "47248529",
   "metadata": {},
   "outputs": [
    {
     "data": {
      "text/plain": [
       "6"
      ]
     },
     "execution_count": 13,
     "metadata": {},
     "output_type": "execute_result"
    }
   ],
   "source": [
    "LC.conns[1].write(b'RED 0\\r')"
   ]
  },
  {
   "cell_type": "code",
   "execution_count": 10,
   "id": "ab86b16d",
   "metadata": {},
   "outputs": [],
   "source": [
    "LC.close()"
   ]
  },
  {
   "cell_type": "code",
   "execution_count": 15,
   "id": "8f4d746c-6ddd-4db1-a9ed-3b03db284a15",
   "metadata": {},
   "outputs": [],
   "source": [
    "import cucim"
   ]
  },
  {
   "cell_type": "code",
   "execution_count": 16,
   "id": "3f829337-90d8-452f-88e3-484083a7198a",
   "metadata": {},
   "outputs": [
    {
     "name": "stdout",
     "output_type": "stream",
     "text": [
      "['COM1', 'COM3', 'COM4', 'COM5', 'COM6']\n"
     ]
    }
   ],
   "source": [
    "import sys\n",
    "import glob\n",
    "import serial\n",
    "\n",
    "\n",
    "def serial_ports():\n",
    "    \"\"\" Lists serial port names\n",
    "\n",
    "        :raises EnvironmentError:\n",
    "            On unsupported or unknown platforms\n",
    "        :returns:\n",
    "            A list of the serial ports available on the system\n",
    "    \"\"\"\n",
    "    if sys.platform.startswith('win'):\n",
    "        ports = ['COM%s' % (i + 1) for i in range(256)]\n",
    "    elif sys.platform.startswith('linux') or sys.platform.startswith('cygwin'):\n",
    "        # this excludes your current terminal \"/dev/tty\"\n",
    "        ports = glob.glob('/dev/tty[A-Za-z]*')\n",
    "    elif sys.platform.startswith('darwin'):\n",
    "        ports = glob.glob('/dev/tty.*')\n",
    "    else:\n",
    "        raise EnvironmentError('Unsupported platform')\n",
    "\n",
    "    result = []\n",
    "    for port in ports:\n",
    "        try:\n",
    "            s = serial.Serial(port)\n",
    "            s.close()\n",
    "            result.append(port)\n",
    "        except (OSError, serial.SerialException):\n",
    "            pass\n",
    "    return result\n",
    "\n",
    "print(serial_ports())"
   ]
  },
  {
   "cell_type": "code",
   "execution_count": null,
   "id": "9047181f",
   "metadata": {},
   "outputs": [],
   "source": []
  }
 ],
 "metadata": {
  "kernelspec": {
   "display_name": "sixteenY",
   "language": "python",
   "name": "sixteeny"
  },
  "language_info": {
   "codemirror_mode": {
    "name": "ipython",
    "version": 3
   },
   "file_extension": ".py",
   "mimetype": "text/x-python",
   "name": "python",
   "nbconvert_exporter": "python",
   "pygments_lexer": "ipython3",
   "version": "3.8.13"
  }
 },
 "nbformat": 4,
 "nbformat_minor": 5
}
