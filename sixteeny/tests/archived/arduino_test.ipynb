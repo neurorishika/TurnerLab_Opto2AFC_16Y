{
 "cells": [
  {
   "cell_type": "code",
   "execution_count": 8,
   "metadata": {},
   "outputs": [],
   "source": [
    "import serial\n",
    "import time \n",
    "import matplotlib.pyplot as plt\n",
    "\n",
    "class OdorSensorController(object):\n",
    "    \"\"\"\n",
    "    A class to control the odor sensor using the Arduino Interface\n",
    "    \"\"\"\n",
    "\n",
    "    def __init__(self, serial_port=\"COM4\", baud_rate=115200):\n",
    "        \"\"\"\n",
    "        Initialize the OdorSensorController class.\n",
    "        \"\"\"\n",
    "        self.serial_port = serial_port\n",
    "        self.baud_rate = baud_rate\n",
    "        self.arduino_interface = None\n",
    "\n",
    "    def init(self):\n",
    "        \"\"\"\n",
    "        Initialize the Arduino interface.\n",
    "        \"\"\"\n",
    "        self.arduino_interface = serial.Serial(self.serial_port, self.baud_rate)\n",
    "        time.sleep(1)\n",
    "        print(\"Arduino interface initialised\")\n",
    "\n",
    "    def __enter__(self):\n",
    "        \"\"\"|\n",
    "        Enter the context manager.\n",
    "        \"\"\"\n",
    "        self.init()\n",
    "        return self\n",
    "\n",
    "    def close(self):\n",
    "        \"\"\"\n",
    "        Close the Arduino interface.\n",
    "        \"\"\"\n",
    "        self.arduino_interface.close()\n",
    "\n",
    "    def __exit__(self, exc_type, exc_value, traceback):\n",
    "        \"\"\"\n",
    "        Exit the context manager.\n",
    "        \"\"\"\n",
    "        self.close()\n",
    "\n",
    "    def read_sensor(self):\n",
    "        \"\"\"\n",
    "        Read the sensor.\n",
    "        \"\"\"\n",
    "        value = self.arduino_interface.readline().decode(\"utf-8\")\n",
    "        if value == \"\":\n",
    "            return None\n",
    "        value = int(value.rstrip('\\r\\n'))\n",
    "        return value\n"
   ]
  },
  {
   "cell_type": "code",
   "execution_count": 12,
   "metadata": {},
   "outputs": [
    {
     "name": "stdout",
     "output_type": "stream",
     "text": [
      "Arduino interface initialised\n"
     ]
    }
   ],
   "source": [
    "with OdorSensorController() as sensor:\n",
    "    values = []\n",
    "    for i in range(100):\n",
    "        value = sensor.read_sensor()\n",
    "        values.append(value)\n",
    "        time.sleep(0.1)"
   ]
  },
  {
   "cell_type": "code",
   "execution_count": 1,
   "metadata": {},
   "outputs": [],
   "source": [
    "# Importing Libraries\n",
    "import serial\n",
    "import time\n",
    "arduino = serial.Serial(port='COM4', baudrate=115200, timeout=.1)\n",
    "def write_read(x):\n",
    "    arduino.write(bytes(x, 'utf-8'))\n",
    "    time.sleep(0.05)\n",
    "    data = arduino.readline()\n",
    "    return data\n",
    "while True:\n",
    "    num = input(\"Enter a number: \") # Taking input from user\n",
    "    value = write_read(num)\n",
    "    print(value) # printing the value"
   ]
  },
  {
   "cell_type": "code",
   "execution_count": 14,
   "metadata": {},
   "outputs": [
    {
     "data": {
      "text/plain": [
       "[<matplotlib.lines.Line2D at 0x237ca546e20>]"
      ]
     },
     "execution_count": 14,
     "metadata": {},
     "output_type": "execute_result"
    },
    {
     "data": {
      "image/png": "[encoded data removed]",
      "text/plain": [
       "<Figure size 432x288 with 1 Axes>"
      ]
     },
     "metadata": {
      "needs_background": "light"
     },
     "output_type": "display_data"
    }
   ],
   "source": [
    "plt.plot(values)"
   ]
  },
  {
   "cell_type": "code",
   "execution_count": null,
   "metadata": {},
   "outputs": [],
   "source": []
  }
 ],
 "metadata": {
  "kernelspec": {
   "display_name": "Python 3.9.7 ('base')",
   "language": "python",
   "name": "python3"
  },
  "language_info": {
   "codemirror_mode": {
    "name": "ipython",
    "version": 3
   },
   "file_extension": ".py",
   "mimetype": "text/x-python",
   "name": "python",
   "nbconvert_exporter": "python",
   "pygments_lexer": "ipython3",
   "version": "3.9.7"
  },
  "orig_nbformat": 4,
  "vscode": {
   "interpreter": {
    "hash": "ad2bdc8ecc057115af97d19610ffacc2b4e99fae6737bb82f5d7fb13d2f2c186"
   }
  }
 },
 "nbformat": 4,
 "nbformat_minor": 2
}
