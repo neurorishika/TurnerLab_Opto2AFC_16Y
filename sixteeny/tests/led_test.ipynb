{
 "cells": [
  {
   "cell_type": "code",
   "execution_count": 1,
   "id": "a8d22869-98aa-4134-bc06-3fd2847851c5",
   "metadata": {},
   "outputs": [],
   "source": [
    "from sixteeny.controller.led import LEDController\n",
    "import time\n",
    "\n",
    "IR_INTENSITY = 50\n",
    "RED_INTENSITY = 100\n",
    "GREEN_INTENSITY = 25\n",
    "BLUE_INTENSITY = 25\n",
    "PULSE_WIDTH = 1200\n",
    "PULSE_PERIOD = 2000\n",
    "PULSE_COUNT = 1\n",
    "PULSE_DEADTIME = 0\n",
    "PULSE_DELAY = 0\n",
    "PULSE_REPEAT = 1\n"
   ]
  },
  {
   "cell_type": "code",
   "execution_count": 2,
   "id": "e6d11ca3",
   "metadata": {},
   "outputs": [
    {
     "name": "stdout",
     "output_type": "stream",
     "text": [
      "LED controllers initialized\n"
     ]
    },
    {
     "ename": "KeyboardInterrupt",
     "evalue": "",
     "output_type": "error",
     "traceback": [
      "\u001b[1;31m---------------------------------------------------------------------------\u001b[0m",
      "\u001b[1;31mKeyboardInterrupt\u001b[0m                         Traceback (most recent call last)",
      "\u001b[1;32mc:\\16YArena\\TurnerLab_Opto2AFC_16Y\\sixteeny\\tests\\led_test.ipynb Cell 2\u001b[0m in \u001b[0;36m<cell line: 1>\u001b[1;34m()\u001b[0m\n\u001b[0;32m      <a href='vscode-notebook-cell:/c%3A/16YArena/TurnerLab_Opto2AFC_16Y/sixteeny/tests/led_test.ipynb#X34sZmlsZQ%3D%3D?line=7'>8</a>\u001b[0m     LC\u001b[39m.\u001b[39maccumulate_led_stimulus(arena,color,\u001b[39m25\u001b[39m,PULSE_WIDTH\u001b[39m/\u001b[39m\u001b[39m/\u001b[39mdiv,PULSE_PERIOD,\u001b[39m1\u001b[39m,PULSE_DEADTIME,PULSE_DELAY,PULSE_REPEAT,debug_mode\u001b[39m=\u001b[39m\u001b[39mFalse\u001b[39;00m)\n\u001b[0;32m      <a href='vscode-notebook-cell:/c%3A/16YArena/TurnerLab_Opto2AFC_16Y/sixteeny/tests/led_test.ipynb#X34sZmlsZQ%3D%3D?line=8'>9</a>\u001b[0m LC\u001b[39m.\u001b[39mrun_accumulated_led_stimulus()\n\u001b[1;32m---> <a href='vscode-notebook-cell:/c%3A/16YArena/TurnerLab_Opto2AFC_16Y/sixteeny/tests/led_test.ipynb#X34sZmlsZQ%3D%3D?line=9'>10</a>\u001b[0m time\u001b[39m.\u001b[39;49msleep(\u001b[39m2\u001b[39;49m)\n",
      "\u001b[1;31mKeyboardInterrupt\u001b[0m: "
     ]
    }
   ],
   "source": [
    "with LEDController(ports=['COM13','COM5','COM12','COM4']) as LC:\n",
    "    LC.turn_on_backlight(100)\n",
    "    while True:\n",
    "        for color in [b'R',b'G',b'B']:\n",
    "            for div in range(1,4):\n",
    "                # LC.reset_accumulated_led_stimulus()\n",
    "                for arena in range(16):\n",
    "                    LC.accumulate_led_stimulus(arena,color,25,PULSE_WIDTH//div,PULSE_PERIOD,1,PULSE_DEADTIME,PULSE_DELAY,PULSE_REPEAT,debug_mode=False)\n",
    "                LC.run_accumulated_led_stimulus()\n",
    "                time.sleep(2)\n",
    "            "
   ]
  },
  {
   "cell_type": "code",
   "execution_count": 4,
   "id": "e9aeb2f8",
   "metadata": {},
   "outputs": [
    {
     "name": "stdout",
     "output_type": "stream",
     "text": [
      "LED controllers initialized\n",
      "Arena 3: b'R' 10 250\n",
      "Arena 13: b'R' 10 250\n",
      "Arena 15: b'R' 10 250\n",
      "Arena 5: b'R' 10 250\n",
      "Arena 11: b'R' 10 250\n",
      "Arena 4: b'R' 10 250\n",
      "Arena 0: b'R' 10 250\n",
      "Arena 2: b'R' 10 250\n",
      "Arena 14: b'R' 10 250\n",
      "Arena 12: b'R' 10 250\n",
      "Arena 7: b'R' 10 250\n",
      "Arena 1: b'R' 10 250\n",
      "Arena 10: b'R' 10 250\n",
      "Arena 6: b'R' 10 250\n",
      "Arena 8: b'R' 10 250\n",
      "Arena 9: b'R' 10 250\n",
      "Arena 13: b'G' 10 500\n",
      "Arena 6: b'B' 10 500\n",
      "Arena 7: b'R' 20 500\n",
      "Arena 1: b'B' 5 500\n",
      "Arena 9: b'G' 10 500\n",
      "Arena 2: b'G' 20 500\n",
      "Arena 10: b'R' 5 500\n",
      "Arena 3: b'R' 5 500\n",
      "Error in Arena 2 at 2023-04-25 10:23:06: LEDs are still running with runtime 0.5 secs. Cut short with 140.26403427124023 milliseconds left. \n",
      "Arena 15: b'R' 5 500\n",
      "Arena 9: b'G' 5 500\n",
      "Arena 13: b'B' 20 500\n",
      "Error in Arena 15 at 2023-04-25 10:23:08: LEDs are still running with runtime 0.5 secs. Cut short with 38.92779350280762 milliseconds left. \n",
      "Arena 11: b'R' 5 500\n",
      "Error in Arena 9 at 2023-04-25 10:23:08: LEDs are still running with runtime 0.5 secs. Cut short with 88.21773529052734 milliseconds left. \n",
      "Arena 10: b'R' 20 500\n",
      "Error in Arena 11 at 2023-04-25 10:23:08: LEDs are still running with runtime 0.5 secs. Cut short with 43.05720329284668 milliseconds left. \n",
      "Arena 6: b'G' 10 500\n",
      "Arena 0: b'G' 5 500\n",
      "Arena 9: b'G' 5 500\n",
      "Arena 3: b'G' 20 500\n",
      "Arena 3: b'B' 20 500\n",
      "Arena 2: b'R' 20 500\n",
      "Arena 15: b'G' 5 500\n",
      "Arena 10: b'G' 20 500\n",
      "Arena 13: b'G' 5 500\n",
      "Arena 3: b'R' 10 500\n",
      "Arena 5: b'R' 5 500\n",
      "Arena 4: b'R' 20 500\n",
      "Error in Arena 5 at 2023-04-25 10:23:19: LEDs are still running with runtime 0.5 secs. Cut short with 296.23913764953613 milliseconds left. \n",
      "Arena 9: b'G' 20 500\n",
      "Arena 6: b'R' 10 500\n",
      "Arena 2: b'R' 10 500\n",
      "Arena 12: b'R' 5 500\n",
      "Arena 7: b'B' 20 500\n",
      "Arena 11: b'B' 5 500\n",
      "Arena 5: b'B' 20 500\n",
      "Arena 15: b'R' 10 500\n",
      "Arena 3: b'G' 20 500\n",
      "Arena 11: b'G' 20 500\n",
      "Arena 8: b'R' 10 500\n",
      "Error in Arena 11 at 2023-04-25 10:23:28: LEDs are still running with runtime 0.5 secs. Cut short with 448.6086368560791 milliseconds left. \n",
      "Arena 1: b'B' 5 500\n",
      "Arena 14: b'B' 10 500\n",
      "Arena 5: b'B' 5 500\n",
      "Arena 10: b'R' 5 500\n",
      "Arena 3: b'R' 5 500\n",
      "Arena 15: b'B' 10 500\n",
      "Arena 2: b'R' 20 500\n",
      "Arena 11: b'G' 10 500\n",
      "Arena 15: b'B' 5 500\n",
      "Arena 10: b'R' 5 500\n",
      "Arena 12: b'R' 5 500\n",
      "Arena 4: b'G' 5 500\n",
      "Arena 0: b'G' 20 500\n",
      "Arena 9: b'R' 5 500\n",
      "Arena 15: b'G' 20 500\n",
      "Arena 13: b'R' 10 500\n",
      "Error in Arena 15 at 2023-04-25 10:23:35: LEDs are still running with runtime 0.5 secs. Cut short with 398.91743659973145 milliseconds left. \n",
      "Arena 11: b'R' 10 500\n",
      "Arena 2: b'B' 5 500\n",
      "Arena 0: b'B' 20 500\n",
      "Arena 4: b'R' 10 500\n",
      "Arena 12: b'B' 5 500\n",
      "Arena 13: b'R' 10 500\n",
      "Arena 8: b'R' 10 500\n",
      "Arena 11: b'B' 5 500\n",
      "Arena 3: b'R' 5 500\n",
      "Arena 4: b'R' 20 500\n",
      "Arena 13: b'R' 20 500\n",
      "Arena 2: b'R' 10 500\n",
      "Arena 1: b'G' 20 500\n",
      "Error in Arena 2 at 2023-04-25 10:23:45: LEDs are still running with runtime 0.5 secs. Cut short with 92.45061874389648 milliseconds left. \n",
      "Arena 3: b'G' 5 500\n",
      "Arena 11: b'R' 20 500\n",
      "Arena 5: b'R' 20 500\n",
      "Arena 14: b'R' 5 500\n",
      "Arena 11: b'B' 5 500\n",
      "Arena 8: b'B' 20 500\n",
      "Error in Arena 11 at 2023-04-25 10:23:50: LEDs are still running with runtime 0.5 secs. Cut short with 193.4037208557129 milliseconds left. \n",
      "Arena 14: b'R' 10 500\n",
      "Arena 4: b'B' 5 500\n",
      "Arena 11: b'B' 20 500\n",
      "Arena 2: b'G' 20 500\n",
      "Arena 13: b'G' 10 500\n"
     ]
    },
    {
     "ename": "KeyboardInterrupt",
     "evalue": "",
     "output_type": "error",
     "traceback": [
      "\u001b[1;31m---------------------------------------------------------------------------\u001b[0m",
      "\u001b[1;31mKeyboardInterrupt\u001b[0m                         Traceback (most recent call last)",
      "\u001b[1;32mc:\\16YArena\\TurnerLab_Opto2AFC_16Y\\sixteeny\\tests\\led_test.ipynb Cell 3\u001b[0m in \u001b[0;36m<cell line: 25>\u001b[1;34m()\u001b[0m\n\u001b[0;32m     <a href='vscode-notebook-cell:/c%3A/16YArena/TurnerLab_Opto2AFC_16Y/sixteeny/tests/led_test.ipynb#X36sZmlsZQ%3D%3D?line=49'>50</a>\u001b[0m     LC\u001b[39m.\u001b[39mrun_accumulated_led_stimulus()\n\u001b[0;32m     <a href='vscode-notebook-cell:/c%3A/16YArena/TurnerLab_Opto2AFC_16Y/sixteeny/tests/led_test.ipynb#X36sZmlsZQ%3D%3D?line=50'>51</a>\u001b[0m     run_this_iteration \u001b[39m=\u001b[39m \u001b[39mFalse\u001b[39;00m\n\u001b[1;32m---> <a href='vscode-notebook-cell:/c%3A/16YArena/TurnerLab_Opto2AFC_16Y/sixteeny/tests/led_test.ipynb#X36sZmlsZQ%3D%3D?line=52'>53</a>\u001b[0m time\u001b[39m.\u001b[39;49msleep(epsilon)\n",
      "\u001b[1;31mKeyboardInterrupt\u001b[0m: "
     ]
    }
   ],
   "source": [
    "## Simulated Experiment\n",
    "from sixteeny.controller.led import LEDController\n",
    "import time\n",
    "import random\n",
    "\n",
    "PULSE_INTENSITY = 10\n",
    "PULSE_WIDTH = 250\n",
    "PULSE_PERIOD = 500\n",
    "PULSE_COUNT = 1\n",
    "PULSE_DEADTIME = 0\n",
    "PULSE_DELAY = 0\n",
    "PULSE_REPEAT = 1\n",
    "\n",
    "epsilon = 1/20 # seconds\n",
    "\n",
    "mean_interval = 10 # seconds\n",
    "min_interval = 2 # seconds\n",
    "start_time = time.time()\n",
    "next_trial = [start_time]*16\n",
    "next_color = [b'R']*16\n",
    "next_intensity = [PULSE_INTENSITY]*16\n",
    "next_pulse_width = [PULSE_WIDTH]*16\n",
    "\n",
    "\n",
    "with LEDController(ports=['COM13','COM5','COM12','COM4']) as LC:\n",
    "    LC.turn_on_backlight(100)\n",
    "    while True:\n",
    "        current_time = time.time()\n",
    "        order = list(range(16))\n",
    "        random.shuffle(order)\n",
    "\n",
    "        run_this_iteration = False\n",
    "\n",
    "        for arena in order:\n",
    "            if current_time >= next_trial[arena]:\n",
    "                print('Arena %d: %s %d %d'%(arena,next_color[arena],next_intensity[arena],next_pulse_width[arena]))\n",
    "                LC.accumulate_led_stimulus(arena,next_color[arena],next_intensity[arena],next_pulse_width[arena],PULSE_PERIOD,1,PULSE_DEADTIME,PULSE_DELAY,PULSE_REPEAT,debug_mode=False)\n",
    "                # exponentially distributed inter-trial interval\n",
    "                while True:\n",
    "                    interval = random.expovariate(1/mean_interval)\n",
    "                    if interval >= min_interval:\n",
    "                        break\n",
    "                next_trial[arena] = current_time + interval\n",
    "                next_color[arena] = random.choice([b'R',b'G',b'B'])\n",
    "                next_intensity[arena] = random.choice([PULSE_INTENSITY//2,PULSE_INTENSITY,PULSE_INTENSITY*2])\n",
    "                next_pulse_width[arena] = 500 #random.choice([PULSE_WIDTH//2,PULSE_WIDTH,PULSE_WIDTH*2])\n",
    "                run_this_iteration = True\n",
    "       \n",
    "        if run_this_iteration:\n",
    "            LC.run_accumulated_led_stimulus()\n",
    "            run_this_iteration = False\n",
    "\n",
    "        time.sleep(epsilon)\n",
    "            "
   ]
  },
  {
   "cell_type": "code",
   "execution_count": null,
   "id": "0ada8015",
   "metadata": {},
   "outputs": [],
   "source": [
    "with LEDController(ports=['COM13','COM5','COM12','COM4']) as LC:\n",
    "    LC.turn_on_backlight(100)\n",
    "    while True:\n",
    "        for color in [b'R',b'G',b'B']:\n",
    "            for arena in range(16):\n",
    "                LC.reset_accumulated_led_stimulus()\n",
    "                LC.accumulate_led_stimulus(arena,color,100,PULSE_WIDTH,PULSE_PERIOD,1,PULSE_DEADTIME,PULSE_DELAY,PULSE_REPEAT,debug_mode=False)\n",
    "                LC.run_accumulated_led_stimulus()\n",
    "                time.sleep(1)\n",
    "            "
   ]
  },
  {
   "cell_type": "code",
   "execution_count": 27,
   "id": "4354c840-5278-44f0-bafd-a7d097d100ba",
   "metadata": {},
   "outputs": [
    {
     "name": "stdout",
     "output_type": "stream",
     "text": [
      "LED controllers initialized\n"
     ]
    }
   ],
   "source": [
    "with LEDController(ports=['COM13','COM5','COM12','COM4']) as LC: #\n",
    "    # LC.turn_on_backlight(100)\n",
    "    # LC.conns[0].write(b'RED 25 0 1111\\r')\n",
    "    # LC.conns[0].write(b'ON 0 0\\r')\n",
    "    for i in range(4):\n",
    "        LC.conns[i].write(b'RED 100 0 1111\\r')\n",
    "        LC.conns[i].write(b'ON 0 0\\r')\n",
    "    # while True:\n",
    "    time.sleep(30)\n",
    "    # LC.conns[0].write(b'IR 100\\r')\n",
    "    # LC.conns[1].write(b'IR 100\\r')\n",
    "\n",
    "    # while True:\n",
    "    #     time.sleep(1)\n",
    "    # LC.reset_accumulated_led_stimulus()\n",
    "    # time.sleep(1)\n",
    "    # for arena in range(16):\n",
    "    #     LC.accumulate_led_stimulus(arena,b'R',100,PULSE_WIDTH,PULSE_PERIOD,PULSE_COUNT,PULSE_DEADTIME,PULSE_DELAY,PULSE_REPEAT,debug_mode=False)\n",
    "    #     LC.run_accumulated_led_stimulus()\n",
    "    #     time.sleep(0.5)\n",
    "    # time.sleep(1)"
   ]
  },
  {
   "cell_type": "code",
   "execution_count": 22,
   "id": "26bb1c2a",
   "metadata": {},
   "outputs": [
    {
     "name": "stdout",
     "output_type": "stream",
     "text": [
      "LED controllers initialized\n"
     ]
    },
    {
     "ename": "KeyboardInterrupt",
     "evalue": "",
     "output_type": "error",
     "traceback": [
      "\u001b[1;31m---------------------------------------------------------------------------\u001b[0m",
      "\u001b[1;31mKeyboardInterrupt\u001b[0m                         Traceback (most recent call last)",
      "\u001b[1;32mc:\\16YArena\\TurnerLab_Opto2AFC_16Y\\sixteeny\\tests\\led_test.ipynb Cell 3\u001b[0m in \u001b[0;36m<cell line: 2>\u001b[1;34m()\u001b[0m\n\u001b[0;32m      <a href='vscode-notebook-cell:/c%3A/16YArena/TurnerLab_Opto2AFC_16Y/sixteeny/tests/led_test.ipynb#W2sZmlsZQ%3D%3D?line=3'>4</a>\u001b[0m         LC\u001b[39m.\u001b[39mconns[i]\u001b[39m.\u001b[39mwrite(\u001b[39mb\u001b[39m\u001b[39m'\u001b[39m\u001b[39mRED 100 0 1111\u001b[39m\u001b[39m\\r\u001b[39;00m\u001b[39m'\u001b[39m)\n\u001b[0;32m      <a href='vscode-notebook-cell:/c%3A/16YArena/TurnerLab_Opto2AFC_16Y/sixteeny/tests/led_test.ipynb#W2sZmlsZQ%3D%3D?line=4'>5</a>\u001b[0m         LC\u001b[39m.\u001b[39mconns[i]\u001b[39m.\u001b[39mwrite(\u001b[39mb\u001b[39m\u001b[39m'\u001b[39m\u001b[39mON 0 0\u001b[39m\u001b[39m\\r\u001b[39;00m\u001b[39m'\u001b[39m)\n\u001b[1;32m----> <a href='vscode-notebook-cell:/c%3A/16YArena/TurnerLab_Opto2AFC_16Y/sixteeny/tests/led_test.ipynb#W2sZmlsZQ%3D%3D?line=5'>6</a>\u001b[0m     time\u001b[39m.\u001b[39;49msleep(\u001b[39m30\u001b[39;49m)\n\u001b[0;32m      <a href='vscode-notebook-cell:/c%3A/16YArena/TurnerLab_Opto2AFC_16Y/sixteeny/tests/led_test.ipynb#W2sZmlsZQ%3D%3D?line=6'>7</a>\u001b[0m time\u001b[39m.\u001b[39msleep(\u001b[39m60\u001b[39m)\n",
      "\u001b[1;31mKeyboardInterrupt\u001b[0m: "
     ]
    }
   ],
   "source": [
    "while True:\n",
    "    with LEDController(ports=['COM13','COM5','COM12','COM4']) as LC: #\n",
    "        for i in range(4):\n",
    "            LC.conns[i].write(b'RED 100 0 1111\\r')\n",
    "            LC.conns[i].write(b'ON 0 0\\r')\n",
    "        time.sleep(30)\n",
    "    time.sleep(60)"
   ]
  },
  {
   "cell_type": "code",
   "execution_count": 4,
   "id": "c91e14a6",
   "metadata": {},
   "outputs": [
    {
     "name": "stdout",
     "output_type": "stream",
     "text": [
      "LED controllers initialized\n",
      "Error in Arena 1 at 1682346237.085098: LEDs are still running with runtime 0.2 secs. Cut short with 200.0 milliseconds left. \n",
      "Error in Arena 2 at 1682346237.0870898: LEDs are still running with runtime 0.2 secs. Cut short with 198.00825119018555 milliseconds left. \n",
      "Error in Arena 3 at 1682346237.0870898: LEDs are still running with runtime 0.2 secs. Cut short with 198.00825119018555 milliseconds left. \n",
      "Error in Arena 2 at 1682346239.0996442: LEDs are still running with runtime 0.2 secs. Cut short with 200.0 milliseconds left. \n",
      "Error in Arena 3 at 1682346239.1016386: LEDs are still running with runtime 0.2 secs. Cut short with 198.00562858581543 milliseconds left. \n",
      "Error in Arena 3 at 1682346241.1136308: LEDs are still running with runtime 0.2 secs. Cut short with 200.0 milliseconds left. \n",
      "Error in Arena 5 at 1682346245.1428828: LEDs are still running with runtime 0.2 secs. Cut short with 200.0 milliseconds left. \n",
      "Error in Arena 6 at 1682346245.1438806: LEDs are still running with runtime 0.2 secs. Cut short with 199.00221824645996 milliseconds left. \n",
      "Error in Arena 7 at 1682346245.1452212: LEDs are still running with runtime 0.2 secs. Cut short with 197.66159057617188 milliseconds left. \n",
      "Error in Arena 6 at 1682346247.1571505: LEDs are still running with runtime 0.2 secs. Cut short with 200.0 milliseconds left. \n",
      "Error in Arena 7 at 1682346247.15815: LEDs are still running with runtime 0.2 secs. Cut short with 199.00054931640625 milliseconds left. \n",
      "Error in Arena 7 at 1682346249.1711028: LEDs are still running with runtime 0.2 secs. Cut short with 200.0 milliseconds left. \n",
      "Error in Arena 9 at 1682346253.1993392: LEDs are still running with runtime 0.2 secs. Cut short with 200.0 milliseconds left. \n",
      "Error in Arena 10 at 1682346253.2003367: LEDs are still running with runtime 0.2 secs. Cut short with 199.00245666503906 milliseconds left. \n",
      "Error in Arena 11 at 1682346253.2013342: LEDs are still running with runtime 0.2 secs. Cut short with 198.00491333007812 milliseconds left. \n",
      "Error in Arena 10 at 1682346255.214842: LEDs are still running with runtime 0.2 secs. Cut short with 200.0 milliseconds left. \n",
      "Error in Arena 11 at 1682346255.2161832: LEDs are still running with runtime 0.2 secs. Cut short with 198.6588954925537 milliseconds left. \n",
      "Error in Arena 11 at 1682346257.2298856: LEDs are still running with runtime 0.2 secs. Cut short with 200.0 milliseconds left. \n",
      "Error in Arena 13 at 1682346261.2596543: LEDs are still running with runtime 0.2 secs. Cut short with 200.0 milliseconds left. \n",
      "Error in Arena 14 at 1682346261.2606523: LEDs are still running with runtime 0.2 secs. Cut short with 199.00197982788086 milliseconds left. \n",
      "Error in Arena 15 at 1682346261.2606523: LEDs are still running with runtime 0.2 secs. Cut short with 199.00197982788086 milliseconds left. \n",
      "Error in Arena 14 at 1682346263.2699704: LEDs are still running with runtime 0.2 secs. Cut short with 200.0 milliseconds left. \n",
      "Error in Arena 15 at 1682346263.2709656: LEDs are still running with runtime 0.2 secs. Cut short with 199.00484085083008 milliseconds left. \n",
      "Error in Arena 15 at 1682346265.2850435: LEDs are still running with runtime 0.2 secs. Cut short with 200.0 milliseconds left. \n",
      "Error in Arena 1 at 1682346269.3031945: LEDs are still running with runtime 0.2 secs. Cut short with 200.0 milliseconds left. \n",
      "Error in Arena 2 at 1682346269.3041914: LEDs are still running with runtime 0.2 secs. Cut short with 199.00317192077637 milliseconds left. \n",
      "Error in Arena 3 at 1682346269.3051891: LEDs are still running with runtime 0.2 secs. Cut short with 198.00539016723633 milliseconds left. \n",
      "Error in Arena 2 at 1682346271.3178928: LEDs are still running with runtime 0.2 secs. Cut short with 200.0 milliseconds left. \n",
      "Error in Arena 3 at 1682346271.3192842: LEDs are still running with runtime 0.2 secs. Cut short with 198.60858917236328 milliseconds left. \n",
      "Error in Arena 3 at 1682346273.3317304: LEDs are still running with runtime 0.2 secs. Cut short with 199.34959411621094 milliseconds left. \n",
      "Error in Arena 5 at 1682346277.3605518: LEDs are still running with runtime 0.2 secs. Cut short with 200.0 milliseconds left. \n",
      "Error in Arena 6 at 1682346277.3615491: LEDs are still running with runtime 0.2 secs. Cut short with 199.00269508361816 milliseconds left. \n",
      "Error in Arena 7 at 1682346277.362546: LEDs are still running with runtime 0.2 secs. Cut short with 198.00586700439453 milliseconds left. \n",
      "Error in Arena 6 at 1682346279.3759692: LEDs are still running with runtime 0.2 secs. Cut short with 200.0 milliseconds left. \n",
      "Error in Arena 7 at 1682346279.3769681: LEDs are still running with runtime 0.2 secs. Cut short with 199.00102615356445 milliseconds left. \n",
      "Error in Arena 7 at 1682346281.3902092: LEDs are still running with runtime 0.2 secs. Cut short with 200.0 milliseconds left. \n",
      "Error in Arena 9 at 1682346285.4182959: LEDs are still running with runtime 0.2 secs. Cut short with 200.0 milliseconds left. \n",
      "Error in Arena 10 at 1682346285.4192939: LEDs are still running with runtime 0.2 secs. Cut short with 199.00197982788086 milliseconds left. \n",
      "Error in Arena 11 at 1682346285.4202907: LEDs are still running with runtime 0.2 secs. Cut short with 198.00515174865723 milliseconds left. \n",
      "Error in Arena 10 at 1682346287.4337614: LEDs are still running with runtime 0.2 secs. Cut short with 200.0 milliseconds left. \n",
      "Error in Arena 11 at 1682346287.4347587: LEDs are still running with runtime 0.2 secs. Cut short with 199.00269508361816 milliseconds left. \n",
      "Error in Arena 11 at 1682346289.4507701: LEDs are still running with runtime 0.2 secs. Cut short with 200.0 milliseconds left. \n",
      "Error in Arena 13 at 1682346293.4801543: LEDs are still running with runtime 0.2 secs. Cut short with 200.0 milliseconds left. \n",
      "Error in Arena 14 at 1682346293.4808044: LEDs are still running with runtime 0.2 secs. Cut short with 199.34983253479004 milliseconds left. \n",
      "Error in Arena 15 at 1682346293.4827998: LEDs are still running with runtime 0.2 secs. Cut short with 197.35450744628906 milliseconds left. \n",
      "Error in Arena 14 at 1682346295.4971285: LEDs are still running with runtime 0.2 secs. Cut short with 200.0 milliseconds left. \n",
      "Error in Arena 15 at 1682346295.498861: LEDs are still running with runtime 0.2 secs. Cut short with 198.26741218566895 milliseconds left. \n",
      "Error in Arena 15 at 1682346297.5129097: LEDs are still running with runtime 0.2 secs. Cut short with 200.0 milliseconds left. \n",
      "Error in Arena 1 at 1682346301.5304263: LEDs are still running with runtime 0.2 secs. Cut short with 200.0 milliseconds left. \n",
      "Error in Arena 2 at 1682346301.531422: LEDs are still running with runtime 0.2 secs. Cut short with 199.00436401367188 milliseconds left. \n",
      "Error in Arena 3 at 1682346301.5324214: LEDs are still running with runtime 0.2 secs. Cut short with 198.00491333007812 milliseconds left. \n",
      "Error in Arena 2 at 1682346303.5456378: LEDs are still running with runtime 0.2 secs. Cut short with 200.0 milliseconds left. \n",
      "Error in Arena 3 at 1682346303.546635: LEDs are still running with runtime 0.2 secs. Cut short with 199.00293350219727 milliseconds left. \n",
      "Error in Arena 3 at 1682346305.5610318: LEDs are still running with runtime 0.2 secs. Cut short with 200.0 milliseconds left. \n",
      "Error in Arena 5 at 1682346309.5903313: LEDs are still running with runtime 0.2 secs. Cut short with 200.0 milliseconds left. \n",
      "Error in Arena 6 at 1682346309.592327: LEDs are still running with runtime 0.2 secs. Cut short with 198.00419807434082 milliseconds left. \n",
      "Error in Arena 7 at 1682346309.592327: LEDs are still running with runtime 0.2 secs. Cut short with 198.00419807434082 milliseconds left. \n",
      "Error in Arena 6 at 1682346311.6061664: LEDs are still running with runtime 0.2 secs. Cut short with 200.0 milliseconds left. \n",
      "Error in Arena 7 at 1682346311.608161: LEDs are still running with runtime 0.2 secs. Cut short with 198.00539016723633 milliseconds left. \n",
      "Error in Arena 7 at 1682346313.6228034: LEDs are still running with runtime 0.2 secs. Cut short with 200.0 milliseconds left. \n",
      "Error in Arena 9 at 1682346317.6529665: LEDs are still running with runtime 0.2 secs. Cut short with 200.0 milliseconds left. \n",
      "Error in Arena 10 at 1682346317.6539607: LEDs are still running with runtime 0.2 secs. Cut short with 199.00579452514648 milliseconds left. \n",
      "Error in Arena 11 at 1682346317.6549592: LEDs are still running with runtime 0.2 secs. Cut short with 198.00729751586914 milliseconds left. \n",
      "Error in Arena 10 at 1682346319.6697721: LEDs are still running with runtime 0.2 secs. Cut short with 200.0 milliseconds left. \n",
      "Error in Arena 11 at 1682346319.6717653: LEDs are still running with runtime 0.2 secs. Cut short with 198.00682067871094 milliseconds left. \n",
      "Error in Arena 11 at 1682346321.6859498: LEDs are still running with runtime 0.2 secs. Cut short with 200.0 milliseconds left. \n",
      "Error in Arena 13 at 1682346325.7153912: LEDs are still running with runtime 0.2 secs. Cut short with 200.0 milliseconds left. \n",
      "Error in Arena 14 at 1682346325.7163887: LEDs are still running with runtime 0.2 secs. Cut short with 199.00245666503906 milliseconds left. \n",
      "Error in Arena 15 at 1682346325.7183833: LEDs are still running with runtime 0.2 secs. Cut short with 197.0078468322754 milliseconds left. \n",
      "Error in Arena 14 at 1682346327.7300649: LEDs are still running with runtime 0.2 secs. Cut short with 200.0 milliseconds left. \n",
      "Error in Arena 15 at 1682346327.7310615: LEDs are still running with runtime 0.2 secs. Cut short with 199.00341033935547 milliseconds left. \n",
      "Error in Arena 15 at 1682346329.745595: LEDs are still running with runtime 0.2 secs. Cut short with 200.0 milliseconds left. \n",
      "Error in Arena 1 at 1682346333.7653906: LEDs are still running with runtime 0.2 secs. Cut short with 200.0 milliseconds left. \n",
      "Error in Arena 2 at 1682346333.7663884: LEDs are still running with runtime 0.2 secs. Cut short with 199.00221824645996 milliseconds left. \n",
      "Error in Arena 3 at 1682346333.767385: LEDs are still running with runtime 0.2 secs. Cut short with 198.00562858581543 milliseconds left. \n",
      "Error in Arena 2 at 1682346335.780803: LEDs are still running with runtime 0.2 secs. Cut short with 200.0 milliseconds left. \n",
      "Error in Arena 3 at 1682346335.781489: LEDs are still running with runtime 0.2 secs. Cut short with 199.3140697479248 milliseconds left. \n",
      "Error in Arena 3 at 1682346337.7955117: LEDs are still running with runtime 0.2 secs. Cut short with 200.0 milliseconds left. \n",
      "Error in Arena 5 at 1682346341.8229032: LEDs are still running with runtime 0.2 secs. Cut short with 200.0 milliseconds left. \n",
      "Error in Arena 6 at 1682346341.8239017: LEDs are still running with runtime 0.2 secs. Cut short with 199.00150299072266 milliseconds left. \n",
      "Error in Arena 7 at 1682346341.8248975: LEDs are still running with runtime 0.2 secs. Cut short with 198.00562858581543 milliseconds left. \n",
      "Error in Arena 6 at 1682346343.8370204: LEDs are still running with runtime 0.2 secs. Cut short with 200.0 milliseconds left. \n",
      "Error in Arena 7 at 1682346343.8390157: LEDs are still running with runtime 0.2 secs. Cut short with 198.00467491149902 milliseconds left. \n",
      "Error in Arena 7 at 1682346345.8506799: LEDs are still running with runtime 0.2 secs. Cut short with 200.0 milliseconds left. \n",
      "Error in Arena 9 at 1682346349.881164: LEDs are still running with runtime 0.2 secs. Cut short with 200.0 milliseconds left. \n",
      "Error in Arena 10 at 1682346349.8824801: LEDs are still running with runtime 0.2 secs. Cut short with 198.68392944335938 milliseconds left. \n",
      "Error in Arena 11 at 1682346349.8830152: LEDs are still running with runtime 0.2 secs. Cut short with 198.14891815185547 milliseconds left. \n",
      "Error in Arena 10 at 1682346351.8960052: LEDs are still running with runtime 0.2 secs. Cut short with 200.0 milliseconds left. \n",
      "Error in Arena 11 at 1682346351.8970015: LEDs are still running with runtime 0.2 secs. Cut short with 199.00364875793457 milliseconds left. \n",
      "Error in Arena 11 at 1682346353.9112327: LEDs are still running with runtime 0.2 secs. Cut short with 200.0 milliseconds left. \n",
      "Error in Arena 13 at 1682346357.9424477: LEDs are still running with runtime 0.2 secs. Cut short with 200.0 milliseconds left. \n",
      "Error in Arena 14 at 1682346357.9434614: LEDs are still running with runtime 0.2 secs. Cut short with 198.98624420166016 milliseconds left. \n",
      "Error in Arena 15 at 1682346357.9447427: LEDs are still running with runtime 0.2 secs. Cut short with 197.70498275756836 milliseconds left. \n",
      "Error in Arena 14 at 1682346359.9584618: LEDs are still running with runtime 0.2 secs. Cut short with 200.0 milliseconds left. \n",
      "Error in Arena 15 at 1682346359.9594555: LEDs are still running with runtime 0.2 secs. Cut short with 199.0062713623047 milliseconds left. \n",
      "Error in Arena 15 at 1682346361.9732966: LEDs are still running with runtime 0.2 secs. Cut short with 200.0 milliseconds left. \n",
      "Error in Arena 1 at 1682346365.989831: LEDs are still running with runtime 0.2 secs. Cut short with 200.0 milliseconds left. \n",
      "Error in Arena 2 at 1682346365.9918268: LEDs are still running with runtime 0.2 secs. Cut short with 198.00419807434082 milliseconds left. \n",
      "Error in Arena 3 at 1682346365.9918268: LEDs are still running with runtime 0.2 secs. Cut short with 198.00419807434082 milliseconds left. \n",
      "Error in Arena 2 at 1682346368.0062943: LEDs are still running with runtime 0.2 secs. Cut short with 200.0 milliseconds left. \n",
      "Error in Arena 3 at 1682346368.0082898: LEDs are still running with runtime 0.2 secs. Cut short with 198.00443649291992 milliseconds left. \n",
      "Error in Arena 3 at 1682346370.0216143: LEDs are still running with runtime 0.2 secs. Cut short with 200.0 milliseconds left. \n",
      "Error in Arena 5 at 1682346374.0506883: LEDs are still running with runtime 0.2 secs. Cut short with 200.0 milliseconds left. \n",
      "Error in Arena 6 at 1682346374.0516849: LEDs are still running with runtime 0.2 secs. Cut short with 199.00341033935547 milliseconds left. \n",
      "Error in Arena 7 at 1682346374.052683: LEDs are still running with runtime 0.2 secs. Cut short with 198.00515174865723 milliseconds left. \n",
      "Error in Arena 6 at 1682346376.0647266: LEDs are still running with runtime 0.2 secs. Cut short with 200.0 milliseconds left. \n",
      "Error in Arena 7 at 1682346376.0657237: LEDs are still running with runtime 0.2 secs. Cut short with 199.00293350219727 milliseconds left. \n",
      "Error in Arena 7 at 1682346378.078207: LEDs are still running with runtime 0.2 secs. Cut short with 200.0 milliseconds left. \n",
      "Error in Arena 9 at 1682346382.1074944: LEDs are still running with runtime 0.2 secs. Cut short with 200.0 milliseconds left. \n",
      "Error in Arena 10 at 1682346382.1084893: LEDs are still running with runtime 0.2 secs. Cut short with 199.00507926940918 milliseconds left. \n",
      "Error in Arena 11 at 1682346382.1094906: LEDs are still running with runtime 0.2 secs. Cut short with 198.00372123718262 milliseconds left. \n",
      "Error in Arena 10 at 1682346384.1209624: LEDs are still running with runtime 0.2 secs. Cut short with 200.0 milliseconds left. \n",
      "Error in Arena 11 at 1682346384.1229546: LEDs are still running with runtime 0.2 secs. Cut short with 198.00777435302734 milliseconds left. \n",
      "Error in Arena 11 at 1682346386.135965: LEDs are still running with runtime 0.2 secs. Cut short with 200.0 milliseconds left. \n",
      "Error in Arena 13 at 1682346390.163872: LEDs are still running with runtime 0.2 secs. Cut short with 200.0 milliseconds left. \n",
      "Error in Arena 14 at 1682346390.1648715: LEDs are still running with runtime 0.2 secs. Cut short with 199.00054931640625 milliseconds left. \n",
      "Error in Arena 15 at 1682346390.1658678: LEDs are still running with runtime 0.2 secs. Cut short with 198.00419807434082 milliseconds left. \n",
      "Error in Arena 14 at 1682346392.1798642: LEDs are still running with runtime 0.2 secs. Cut short with 200.0 milliseconds left. \n",
      "Error in Arena 15 at 1682346392.1805136: LEDs are still running with runtime 0.2 secs. Cut short with 199.35054779052734 milliseconds left. \n",
      "Error in Arena 15 at 1682346394.1944282: LEDs are still running with runtime 0.2 secs. Cut short with 200.0 milliseconds left. \n",
      "Error in Arena 1 at 1682346398.2138135: LEDs are still running with runtime 0.2 secs. Cut short with 200.0 milliseconds left. \n",
      "Error in Arena 2 at 1682346398.2148123: LEDs are still running with runtime 0.2 secs. Cut short with 199.00126457214355 milliseconds left. \n",
      "Error in Arena 3 at 1682346398.2148123: LEDs are still running with runtime 0.2 secs. Cut short with 199.00126457214355 milliseconds left. \n",
      "Error in Arena 2 at 1682346400.22802: LEDs are still running with runtime 0.2 secs. Cut short with 200.0 milliseconds left. \n",
      "Error in Arena 3 at 1682346400.2290165: LEDs are still running with runtime 0.2 secs. Cut short with 199.00341033935547 milliseconds left. \n",
      "Error in Arena 3 at 1682346402.2421992: LEDs are still running with runtime 0.2 secs. Cut short with 200.0 milliseconds left. \n",
      "Error in Arena 5 at 1682346406.2667823: LEDs are still running with runtime 0.2 secs. Cut short with 200.0 milliseconds left. \n",
      "Error in Arena 6 at 1682346406.2687767: LEDs are still running with runtime 0.2 secs. Cut short with 198.00562858581543 milliseconds left. \n",
      "Error in Arena 7 at 1682346406.2687767: LEDs are still running with runtime 0.2 secs. Cut short with 198.00562858581543 milliseconds left. \n",
      "Error in Arena 6 at 1682346408.2817695: LEDs are still running with runtime 0.2 secs. Cut short with 200.0 milliseconds left. \n",
      "Error in Arena 7 at 1682346408.2827697: LEDs are still running with runtime 0.2 secs. Cut short with 198.99983406066895 milliseconds left. \n",
      "Error in Arena 7 at 1682346410.2969768: LEDs are still running with runtime 0.2 secs. Cut short with 200.0 milliseconds left. \n",
      "Error in Arena 9 at 1682346414.3253949: LEDs are still running with runtime 0.2 secs. Cut short with 200.0 milliseconds left. \n",
      "Error in Arena 10 at 1682346414.326394: LEDs are still running with runtime 0.2 secs. Cut short with 199.00078773498535 milliseconds left. \n",
      "Error in Arena 11 at 1682346414.326394: LEDs are still running with runtime 0.2 secs. Cut short with 199.00078773498535 milliseconds left. \n",
      "Error in Arena 10 at 1682346416.339415: LEDs are still running with runtime 0.2 secs. Cut short with 200.0 milliseconds left. \n",
      "Error in Arena 11 at 1682346416.3407557: LEDs are still running with runtime 0.2 secs. Cut short with 198.6593723297119 milliseconds left. \n",
      "Error in Arena 11 at 1682346418.3553798: LEDs are still running with runtime 0.2 secs. Cut short with 200.0 milliseconds left. \n",
      "Error in Arena 13 at 1682346422.3840039: LEDs are still running with runtime 0.2 secs. Cut short with 200.0 milliseconds left. \n",
      "Error in Arena 14 at 1682346422.385: LEDs are still running with runtime 0.2 secs. Cut short with 199.00388717651367 milliseconds left. \n",
      "Error in Arena 15 at 1682346422.3859968: LEDs are still running with runtime 0.2 secs. Cut short with 198.00705909729004 milliseconds left. \n",
      "Error in Arena 14 at 1682346424.3989398: LEDs are still running with runtime 0.2 secs. Cut short with 200.0 milliseconds left. \n",
      "Error in Arena 15 at 1682346424.4009333: LEDs are still running with runtime 0.2 secs. Cut short with 198.00658226013184 milliseconds left. \n",
      "Error in Arena 15 at 1682346426.4137752: LEDs are still running with runtime 0.2 secs. Cut short with 200.0 milliseconds left. \n",
      "Error in Arena 1 at 1682346430.4340212: LEDs are still running with runtime 0.2 secs. Cut short with 200.0 milliseconds left. \n",
      "Error in Arena 2 at 1682346430.4350176: LEDs are still running with runtime 0.2 secs. Cut short with 199.00364875793457 milliseconds left. \n",
      "Error in Arena 3 at 1682346430.4360142: LEDs are still running with runtime 0.2 secs. Cut short with 198.00705909729004 milliseconds left. \n",
      "Error in Arena 2 at 1682346432.4493454: LEDs are still running with runtime 0.2 secs. Cut short with 200.0 milliseconds left. \n",
      "Error in Arena 3 at 1682346432.4503422: LEDs are still running with runtime 0.2 secs. Cut short with 199.00317192077637 milliseconds left. \n",
      "Error in Arena 3 at 1682346434.4641144: LEDs are still running with runtime 0.2 secs. Cut short with 200.0 milliseconds left. \n",
      "Error in Arena 5 at 1682346438.4932377: LEDs are still running with runtime 0.2 secs. Cut short with 200.0 milliseconds left. \n",
      "Error in Arena 6 at 1682346438.4952326: LEDs are still running with runtime 0.2 secs. Cut short with 198.00515174865723 milliseconds left. \n",
      "Error in Arena 7 at 1682346438.4952326: LEDs are still running with runtime 0.2 secs. Cut short with 198.00515174865723 milliseconds left. \n",
      "Error in Arena 6 at 1682346440.5086775: LEDs are still running with runtime 0.2 secs. Cut short with 200.0 milliseconds left. \n",
      "Error in Arena 7 at 1682346440.5106702: LEDs are still running with runtime 0.2 secs. Cut short with 198.00729751586914 milliseconds left. \n",
      "Error in Arena 7 at 1682346442.5254173: LEDs are still running with runtime 0.2 secs. Cut short with 199.00221824645996 milliseconds left. \n",
      "Error in Arena 9 at 1682346446.552651: LEDs are still running with runtime 0.2 secs. Cut short with 200.0 milliseconds left. \n",
      "Error in Arena 10 at 1682346446.5533056: LEDs are still running with runtime 0.2 secs. Cut short with 199.3453025817871 milliseconds left. \n",
      "Error in Arena 11 at 1682346446.555301: LEDs are still running with runtime 0.2 secs. Cut short with 197.34997749328613 milliseconds left. \n",
      "Error in Arena 10 at 1682346448.5674953: LEDs are still running with runtime 0.2 secs. Cut short with 200.0 milliseconds left. \n",
      "Error in Arena 11 at 1682346448.5684946: LEDs are still running with runtime 0.2 secs. Cut short with 199.00078773498535 milliseconds left. \n",
      "Error in Arena 11 at 1682346450.5801337: LEDs are still running with runtime 0.2 secs. Cut short with 200.0 milliseconds left. \n",
      "Error in Arena 13 at 1682346454.6083257: LEDs are still running with runtime 0.2 secs. Cut short with 200.0 milliseconds left. \n",
      "Error in Arena 14 at 1682346454.6093228: LEDs are still running with runtime 0.2 secs. Cut short with 199.00293350219727 milliseconds left. \n",
      "Error in Arena 15 at 1682346454.6103191: LEDs are still running with runtime 0.2 secs. Cut short with 198.00658226013184 milliseconds left. \n",
      "Error in Arena 14 at 1682346456.6238446: LEDs are still running with runtime 0.2 secs. Cut short with 200.0 milliseconds left. \n",
      "Error in Arena 15 at 1682346456.6248448: LEDs are still running with runtime 0.2 secs. Cut short with 198.99983406066895 milliseconds left. \n",
      "Error in Arena 15 at 1682346458.6380982: LEDs are still running with runtime 0.2 secs. Cut short with 200.0 milliseconds left. \n",
      "Error in Arena 1 at 1682346462.6566143: LEDs are still running with runtime 0.2 secs. Cut short with 200.0 milliseconds left. \n",
      "Error in Arena 2 at 1682346462.657957: LEDs are still running with runtime 0.2 secs. Cut short with 198.6572265625 milliseconds left. \n",
      "Error in Arena 3 at 1682346462.6586092: LEDs are still running with runtime 0.2 secs. Cut short with 198.00515174865723 milliseconds left. \n",
      "Error in Arena 2 at 1682346464.671385: LEDs are still running with runtime 0.2 secs. Cut short with 200.0 milliseconds left. \n",
      "Error in Arena 3 at 1682346464.6723847: LEDs are still running with runtime 0.2 secs. Cut short with 199.00031089782715 milliseconds left. \n",
      "Error in Arena 3 at 1682346466.6867585: LEDs are still running with runtime 0.2 secs. Cut short with 200.0 milliseconds left. \n",
      "Error in Arena 5 at 1682346470.7147293: LEDs are still running with runtime 0.2 secs. Cut short with 200.0 milliseconds left. \n",
      "Error in Arena 6 at 1682346470.7157273: LEDs are still running with runtime 0.2 secs. Cut short with 199.00197982788086 milliseconds left. \n",
      "Error in Arena 7 at 1682346470.716724: LEDs are still running with runtime 0.2 secs. Cut short with 198.00539016723633 milliseconds left. \n",
      "Error in Arena 6 at 1682346472.730674: LEDs are still running with runtime 0.2 secs. Cut short with 200.0 milliseconds left. \n",
      "Error in Arena 7 at 1682346472.731698: LEDs are still running with runtime 0.2 secs. Cut short with 198.9759922027588 milliseconds left. \n",
      "Error in Arena 7 at 1682346474.7469325: LEDs are still running with runtime 0.2 secs. Cut short with 200.0 milliseconds left. \n",
      "Error in Arena 9 at 1682346478.776586: LEDs are still running with runtime 0.2 secs. Cut short with 200.0 milliseconds left. \n",
      "Error in Arena 10 at 1682346478.7779286: LEDs are still running with runtime 0.2 secs. Cut short with 198.6574649810791 milliseconds left. \n",
      "Error in Arena 11 at 1682346478.7785811: LEDs are still running with runtime 0.2 secs. Cut short with 198.00491333007812 milliseconds left. \n",
      "Error in Arena 10 at 1682346480.7915955: LEDs are still running with runtime 0.2 secs. Cut short with 200.0 milliseconds left. \n",
      "Error in Arena 11 at 1682346480.79343: LEDs are still running with runtime 0.2 secs. Cut short with 198.16536903381348 milliseconds left. \n",
      "Error in Arena 11 at 1682346482.8078344: LEDs are still running with runtime 0.2 secs. Cut short with 200.0 milliseconds left. \n",
      "Error in Arena 13 at 1682346486.838849: LEDs are still running with runtime 0.2 secs. Cut short with 200.0 milliseconds left. \n",
      "Error in Arena 14 at 1682346486.8401098: LEDs are still running with runtime 0.2 secs. Cut short with 198.73924255371094 milliseconds left. \n",
      "Error in Arena 15 at 1682346486.8408256: LEDs are still running with runtime 0.2 secs. Cut short with 198.02350997924805 milliseconds left. \n",
      "Error in Arena 14 at 1682346488.852774: LEDs are still running with runtime 0.2 secs. Cut short with 200.0 milliseconds left. \n",
      "Error in Arena 15 at 1682346488.8547676: LEDs are still running with runtime 0.2 secs. Cut short with 198.00634384155273 milliseconds left. \n",
      "Error in Arena 15 at 1682346490.8665173: LEDs are still running with runtime 0.2 secs. Cut short with 200.0 milliseconds left. \n",
      "Error in Arena 1 at 1682346494.8827853: LEDs are still running with runtime 0.2 secs. Cut short with 200.0 milliseconds left. \n",
      "Error in Arena 2 at 1682346494.884781: LEDs are still running with runtime 0.2 secs. Cut short with 198.00443649291992 milliseconds left. \n",
      "Error in Arena 3 at 1682346494.8851538: LEDs are still running with runtime 0.2 secs. Cut short with 197.63154983520508 milliseconds left. \n",
      "Error in Arena 2 at 1682346496.8984604: LEDs are still running with runtime 0.2 secs. Cut short with 200.0 milliseconds left. \n",
      "Error in Arena 3 at 1682346496.9004555: LEDs are still running with runtime 0.2 secs. Cut short with 198.00491333007812 milliseconds left. \n",
      "Error in Arena 3 at 1682346498.9144998: LEDs are still running with runtime 0.2 secs. Cut short with 200.0 milliseconds left. \n",
      "Error in Arena 5 at 1682346502.9434364: LEDs are still running with runtime 0.2 secs. Cut short with 200.0 milliseconds left. \n",
      "Error in Arena 6 at 1682346502.944435: LEDs are still running with runtime 0.2 secs. Cut short with 199.00150299072266 milliseconds left. \n",
      "Error in Arena 7 at 1682346502.9454308: LEDs are still running with runtime 0.2 secs. Cut short with 198.00562858581543 milliseconds left. \n",
      "Error in Arena 6 at 1682346504.957768: LEDs are still running with runtime 0.2 secs. Cut short with 200.0 milliseconds left. \n",
      "Error in Arena 7 at 1682346504.9596314: LEDs are still running with runtime 0.2 secs. Cut short with 198.1365203857422 milliseconds left. \n",
      "Error in Arena 7 at 1682346506.9726775: LEDs are still running with runtime 0.2 secs. Cut short with 200.0 milliseconds left. \n",
      "Error in Arena 9 at 1682346511.0008307: LEDs are still running with runtime 0.2 secs. Cut short with 200.0 milliseconds left. \n",
      "Error in Arena 10 at 1682346511.0018282: LEDs are still running with runtime 0.2 secs. Cut short with 199.00245666503906 milliseconds left. \n",
      "Error in Arena 11 at 1682346511.002826: LEDs are still running with runtime 0.2 secs. Cut short with 198.00467491149902 milliseconds left. \n",
      "Error in Arena 10 at 1682346513.0142174: LEDs are still running with runtime 0.2 secs. Cut short with 200.0 milliseconds left. \n",
      "Error in Arena 11 at 1682346513.016213: LEDs are still running with runtime 0.2 secs. Cut short with 198.00443649291992 milliseconds left. \n",
      "Error in Arena 11 at 1682346515.0298142: LEDs are still running with runtime 0.2 secs. Cut short with 200.0 milliseconds left. \n",
      "Error in Arena 13 at 1682346519.0609112: LEDs are still running with runtime 0.2 secs. Cut short with 200.0 milliseconds left. \n",
      "Error in Arena 14 at 1682346519.0619164: LEDs are still running with runtime 0.2 secs. Cut short with 198.9948272705078 milliseconds left. \n",
      "Error in Arena 15 at 1682346519.0619164: LEDs are still running with runtime 0.2 secs. Cut short with 198.9948272705078 milliseconds left. \n",
      "Error in Arena 14 at 1682346521.075739: LEDs are still running with runtime 0.2 secs. Cut short with 200.0 milliseconds left. \n",
      "Error in Arena 15 at 1682346521.078022: LEDs are still running with runtime 0.2 secs. Cut short with 197.71690368652344 milliseconds left. \n",
      "Error in Arena 15 at 1682346523.092119: LEDs are still running with runtime 0.2 secs. Cut short with 200.0 milliseconds left. \n",
      "Error in Arena 1 at 1682346527.1109648: LEDs are still running with runtime 0.2 secs. Cut short with 200.0 milliseconds left. \n",
      "Error in Arena 2 at 1682346527.112959: LEDs are still running with runtime 0.2 secs. Cut short with 198.00586700439453 milliseconds left. \n",
      "Error in Arena 3 at 1682346527.112959: LEDs are still running with runtime 0.2 secs. Cut short with 198.00586700439453 milliseconds left. \n",
      "Error in Arena 2 at 1682346529.1270273: LEDs are still running with runtime 0.2 secs. Cut short with 200.0 milliseconds left. \n",
      "Error in Arena 3 at 1682346529.1283073: LEDs are still running with runtime 0.2 secs. Cut short with 198.7199306488037 milliseconds left. \n",
      "Error in Arena 3 at 1682346531.1404881: LEDs are still running with runtime 0.2 secs. Cut short with 200.0 milliseconds left. \n",
      "Error in Arena 5 at 1682346535.168219: LEDs are still running with runtime 0.2 secs. Cut short with 200.0 milliseconds left. \n",
      "Error in Arena 6 at 1682346535.170215: LEDs are still running with runtime 0.2 secs. Cut short with 198.00419807434082 milliseconds left. \n",
      "Error in Arena 7 at 1682346535.1712136: LEDs are still running with runtime 0.2 secs. Cut short with 197.00546264648438 milliseconds left. \n",
      "Error in Arena 6 at 1682346537.1848898: LEDs are still running with runtime 0.2 secs. Cut short with 200.0 milliseconds left. \n",
      "Error in Arena 7 at 1682346537.185888: LEDs are still running with runtime 0.2 secs. Cut short with 199.00174140930176 milliseconds left. \n",
      "Error in Arena 7 at 1682346539.1989813: LEDs are still running with runtime 0.2 secs. Cut short with 200.0 milliseconds left. \n",
      "Error in Arena 9 at 1682346543.2264822: LEDs are still running with runtime 0.2 secs. Cut short with 200.0 milliseconds left. \n",
      "Error in Arena 10 at 1682346543.2284758: LEDs are still running with runtime 0.2 secs. Cut short with 198.00634384155273 milliseconds left. \n",
      "Error in Arena 11 at 1682346543.2284758: LEDs are still running with runtime 0.2 secs. Cut short with 198.00634384155273 milliseconds left. \n",
      "Error in Arena 10 at 1682346545.2419186: LEDs are still running with runtime 0.2 secs. Cut short with 200.0 milliseconds left. \n",
      "Error in Arena 11 at 1682346545.24326: LEDs are still running with runtime 0.2 secs. Cut short with 198.6586570739746 milliseconds left. \n",
      "Error in Arena 11 at 1682346547.2565582: LEDs are still running with runtime 0.2 secs. Cut short with 200.0 milliseconds left. \n",
      "Error in Arena 13 at 1682346551.2853515: LEDs are still running with runtime 0.2 secs. Cut short with 200.0 milliseconds left. \n",
      "Error in Arena 14 at 1682346551.2863493: LEDs are still running with runtime 0.2 secs. Cut short with 199.00221824645996 milliseconds left. \n",
      "Error in Arena 15 at 1682346551.2873473: LEDs are still running with runtime 0.2 secs. Cut short with 198.00419807434082 milliseconds left. \n",
      "Error in Arena 14 at 1682346553.3000169: LEDs are still running with runtime 0.2 secs. Cut short with 200.0 milliseconds left. \n",
      "Error in Arena 15 at 1682346553.301016: LEDs are still running with runtime 0.2 secs. Cut short with 199.00078773498535 milliseconds left. \n",
      "Error in Arena 15 at 1682346555.3130226: LEDs are still running with runtime 0.2 secs. Cut short with 200.0 milliseconds left. \n",
      "Error in Arena 1 at 1682346559.3284621: LEDs are still running with runtime 0.2 secs. Cut short with 200.0 milliseconds left. \n",
      "Error in Arena 2 at 1682346559.32946: LEDs are still running with runtime 0.2 secs. Cut short with 199.00221824645996 milliseconds left. \n",
      "Error in Arena 3 at 1682346559.3304567: LEDs are still running with runtime 0.2 secs. Cut short with 198.00539016723633 milliseconds left. \n",
      "Error in Arena 2 at 1682346561.3431168: LEDs are still running with runtime 0.2 secs. Cut short with 200.0 milliseconds left. \n",
      "Error in Arena 3 at 1682346561.3441184: LEDs are still running with runtime 0.2 secs. Cut short with 198.99840354919434 milliseconds left. \n",
      "Error in Arena 3 at 1682346563.3576791: LEDs are still running with runtime 0.2 secs. Cut short with 200.0 milliseconds left. \n",
      "Error in Arena 5 at 1682346567.3842297: LEDs are still running with runtime 0.2 secs. Cut short with 200.0 milliseconds left. \n",
      "Error in Arena 6 at 1682346567.3862252: LEDs are still running with runtime 0.2 secs. Cut short with 198.00443649291992 milliseconds left. \n",
      "Error in Arena 7 at 1682346567.3862252: LEDs are still running with runtime 0.2 secs. Cut short with 198.00443649291992 milliseconds left. \n",
      "Error in Arena 6 at 1682346569.4009054: LEDs are still running with runtime 0.2 secs. Cut short with 200.0 milliseconds left. \n",
      "Error in Arena 7 at 1682346569.401959: LEDs are still running with runtime 0.2 secs. Cut short with 198.9464282989502 milliseconds left. \n",
      "Error in Arena 7 at 1682346571.415727: LEDs are still running with runtime 0.2 secs. Cut short with 200.0 milliseconds left. \n",
      "Error in Arena 9 at 1682346575.4454994: LEDs are still running with runtime 0.2 secs. Cut short with 200.0 milliseconds left. \n",
      "Error in Arena 10 at 1682346575.4464967: LEDs are still running with runtime 0.2 secs. Cut short with 199.00269508361816 milliseconds left. \n",
      "Error in Arena 11 at 1682346575.447494: LEDs are still running with runtime 0.2 secs. Cut short with 198.00539016723633 milliseconds left. \n",
      "Error in Arena 10 at 1682346577.4606218: LEDs are still running with runtime 0.2 secs. Cut short with 200.0 milliseconds left. \n",
      "Error in Arena 11 at 1682346577.4616194: LEDs are still running with runtime 0.2 secs. Cut short with 199.00245666503906 milliseconds left. \n",
      "Error in Arena 11 at 1682346579.4749143: LEDs are still running with runtime 0.2 secs. Cut short with 200.0 milliseconds left. \n",
      "Error in Arena 13 at 1682346583.5016131: LEDs are still running with runtime 0.2 secs. Cut short with 200.0 milliseconds left. \n",
      "Error in Arena 14 at 1682346583.5026104: LEDs are still running with runtime 0.2 secs. Cut short with 199.00269508361816 milliseconds left. \n",
      "Error in Arena 15 at 1682346583.5036077: LEDs are still running with runtime 0.2 secs. Cut short with 198.00539016723633 milliseconds left. \n",
      "Error in Arena 14 at 1682346585.5152755: LEDs are still running with runtime 0.2 secs. Cut short with 200.0 milliseconds left. \n",
      "Error in Arena 15 at 1682346585.5162778: LEDs are still running with runtime 0.2 secs. Cut short with 198.99768829345703 milliseconds left. \n",
      "Error in Arena 15 at 1682346587.5300403: LEDs are still running with runtime 0.2 secs. Cut short with 200.0 milliseconds left. \n",
      "Error in Arena 1 at 1682346591.5502553: LEDs are still running with runtime 0.2 secs. Cut short with 200.0 milliseconds left. \n",
      "Error in Arena 2 at 1682346591.5522504: LEDs are still running with runtime 0.2 secs. Cut short with 198.00491333007812 milliseconds left. \n",
      "Error in Arena 3 at 1682346591.5522504: LEDs are still running with runtime 0.2 secs. Cut short with 198.00491333007812 milliseconds left. \n",
      "Error in Arena 2 at 1682346593.565438: LEDs are still running with runtime 0.2 secs. Cut short with 200.0 milliseconds left. \n",
      "Error in Arena 3 at 1682346593.5664353: LEDs are still running with runtime 0.2 secs. Cut short with 199.00269508361816 milliseconds left. \n",
      "Error in Arena 3 at 1682346595.577866: LEDs are still running with runtime 0.2 secs. Cut short with 200.0 milliseconds left. \n",
      "Error in Arena 5 at 1682346599.6103773: LEDs are still running with runtime 0.2 secs. Cut short with 200.0 milliseconds left. \n",
      "Error in Arena 6 at 1682346599.6113715: LEDs are still running with runtime 0.2 secs. Cut short with 199.00579452514648 milliseconds left. \n",
      "Error in Arena 7 at 1682346599.612714: LEDs are still running with runtime 0.2 secs. Cut short with 197.6632595062256 milliseconds left. \n",
      "Error in Arena 6 at 1682346601.627072: LEDs are still running with runtime 0.2 secs. Cut short with 200.0 milliseconds left. \n",
      "Error in Arena 7 at 1682346601.6290667: LEDs are still running with runtime 0.2 secs. Cut short with 198.00539016723633 milliseconds left. \n",
      "Error in Arena 7 at 1682346603.6422992: LEDs are still running with runtime 0.2 secs. Cut short with 200.0 milliseconds left. \n",
      "Error in Arena 9 at 1682346607.6714284: LEDs are still running with runtime 0.2 secs. Cut short with 200.0 milliseconds left. \n",
      "Error in Arena 10 at 1682346607.6734204: LEDs are still running with runtime 0.2 secs. Cut short with 198.00801277160645 milliseconds left. \n",
      "Error in Arena 11 at 1682346607.6734204: LEDs are still running with runtime 0.2 secs. Cut short with 198.00801277160645 milliseconds left. \n",
      "Error in Arena 10 at 1682346609.6868637: LEDs are still running with runtime 0.2 secs. Cut short with 200.0 milliseconds left. \n",
      "Error in Arena 11 at 1682346609.6878583: LEDs are still running with runtime 0.2 secs. Cut short with 199.00531768798828 milliseconds left. \n",
      "Error in Arena 11 at 1682346611.7000914: LEDs are still running with runtime 0.2 secs. Cut short with 200.0 milliseconds left. \n",
      "Error in Arena 13 at 1682346615.7283359: LEDs are still running with runtime 0.2 secs. Cut short with 200.0 milliseconds left. \n",
      "Error in Arena 14 at 1682346615.7293382: LEDs are still running with runtime 0.2 secs. Cut short with 198.99768829345703 milliseconds left. \n",
      "Error in Arena 15 at 1682346615.7303355: LEDs are still running with runtime 0.2 secs. Cut short with 198.0003833770752 milliseconds left. \n",
      "Error in Arena 14 at 1682346617.7451644: LEDs are still running with runtime 0.2 secs. Cut short with 200.0 milliseconds left. \n",
      "Error in Arena 15 at 1682346617.746169: LEDs are still running with runtime 0.2 secs. Cut short with 198.99530410766602 milliseconds left. \n",
      "Error in Arena 15 at 1682346619.7609744: LEDs are still running with runtime 0.2 secs. Cut short with 200.0 milliseconds left. \n",
      "Error in Arena 1 at 1682346623.7797368: LEDs are still running with runtime 0.2 secs. Cut short with 200.0 milliseconds left. \n",
      "Error in Arena 2 at 1682346623.7817287: LEDs are still running with runtime 0.2 secs. Cut short with 198.00801277160645 milliseconds left. \n",
      "Error in Arena 3 at 1682346623.7817287: LEDs are still running with runtime 0.2 secs. Cut short with 198.00801277160645 milliseconds left. \n",
      "Error in Arena 2 at 1682346625.7958577: LEDs are still running with runtime 0.2 secs. Cut short with 200.0 milliseconds left. \n",
      "Error in Arena 3 at 1682346625.7978504: LEDs are still running with runtime 0.2 secs. Cut short with 198.00729751586914 milliseconds left. \n",
      "Error in Arena 3 at 1682346627.811759: LEDs are still running with runtime 0.2 secs. Cut short with 200.0 milliseconds left. \n",
      "Error in Arena 5 at 1682346631.841321: LEDs are still running with runtime 0.2 secs. Cut short with 200.0 milliseconds left. \n",
      "Error in Arena 6 at 1682346631.8423185: LEDs are still running with runtime 0.2 secs. Cut short with 199.00245666503906 milliseconds left. \n",
      "Error in Arena 7 at 1682346631.8433213: LEDs are still running with runtime 0.2 secs. Cut short with 197.9996681213379 milliseconds left. \n",
      "Error in Arena 6 at 1682346633.8561869: LEDs are still running with runtime 0.2 secs. Cut short with 200.0 milliseconds left. \n",
      "Error in Arena 7 at 1682346633.857184: LEDs are still running with runtime 0.2 secs. Cut short with 199.00293350219727 milliseconds left. \n",
      "Error in Arena 7 at 1682346635.8711426: LEDs are still running with runtime 0.2 secs. Cut short with 200.0 milliseconds left. \n",
      "Error in Arena 9 at 1682346639.9008682: LEDs are still running with runtime 0.2 secs. Cut short with 200.0 milliseconds left. \n",
      "Error in Arena 10 at 1682346639.9028587: LEDs are still running with runtime 0.2 secs. Cut short with 198.00944328308105 milliseconds left. \n",
      "Error in Arena 11 at 1682346639.9028587: LEDs are still running with runtime 0.2 secs. Cut short with 198.00944328308105 milliseconds left. \n",
      "Error in Arena 10 at 1682346641.9160779: LEDs are still running with runtime 0.2 secs. Cut short with 200.0 milliseconds left. \n",
      "Error in Arena 11 at 1682346641.9170825: LEDs are still running with runtime 0.2 secs. Cut short with 198.99530410766602 milliseconds left. \n",
      "Error in Arena 11 at 1682346643.9310107: LEDs are still running with runtime 0.2 secs. Cut short with 200.0 milliseconds left. \n",
      "Error in Arena 13 at 1682346647.9603639: LEDs are still running with runtime 0.2 secs. Cut short with 200.0 milliseconds left. \n",
      "Error in Arena 14 at 1682346647.961361: LEDs are still running with runtime 0.2 secs. Cut short with 199.00293350219727 milliseconds left. \n",
      "Error in Arena 15 at 1682346647.9623582: LEDs are still running with runtime 0.2 secs. Cut short with 198.00562858581543 milliseconds left. \n",
      "Error in Arena 14 at 1682346649.9755607: LEDs are still running with runtime 0.2 secs. Cut short with 200.0 milliseconds left. \n",
      "Error in Arena 15 at 1682346649.9775548: LEDs are still running with runtime 0.2 secs. Cut short with 198.00586700439453 milliseconds left. \n",
      "Error in Arena 15 at 1682346651.9931676: LEDs are still running with runtime 0.2 secs. Cut short with 199.00317192077637 milliseconds left. \n",
      "Error in Arena 1 at 1682346656.012766: LEDs are still running with runtime 0.2 secs. Cut short with 200.0 milliseconds left. \n",
      "Error in Arena 2 at 1682346656.0140948: LEDs are still running with runtime 0.2 secs. Cut short with 198.6710548400879 milliseconds left. \n",
      "Error in Arena 3 at 1682346656.01476: LEDs are still running with runtime 0.2 secs. Cut short with 198.00586700439453 milliseconds left. \n",
      "Error in Arena 2 at 1682346658.02729: LEDs are still running with runtime 0.2 secs. Cut short with 200.0 milliseconds left. \n",
      "Error in Arena 3 at 1682346658.0293624: LEDs are still running with runtime 0.2 secs. Cut short with 197.92766571044922 milliseconds left. \n",
      "Error in Arena 3 at 1682346660.0441587: LEDs are still running with runtime 0.2 secs. Cut short with 200.0 milliseconds left. \n",
      "Error in Arena 5 at 1682346664.0738747: LEDs are still running with runtime 0.2 secs. Cut short with 200.0 milliseconds left. \n",
      "Error in Arena 6 at 1682346664.0758705: LEDs are still running with runtime 0.2 secs. Cut short with 198.00419807434082 milliseconds left. \n",
      "Error in Arena 7 at 1682346664.0768666: LEDs are still running with runtime 0.2 secs. Cut short with 197.0080852508545 milliseconds left. \n",
      "Error in Arena 6 at 1682346666.0899343: LEDs are still running with runtime 0.2 secs. Cut short with 200.0 milliseconds left. \n",
      "Error in Arena 7 at 1682346666.0909343: LEDs are still running with runtime 0.2 secs. Cut short with 199.00007247924805 milliseconds left. \n",
      "Error in Arena 7 at 1682346668.1043968: LEDs are still running with runtime 0.2 secs. Cut short with 200.0 milliseconds left. \n",
      "Error in Arena 9 at 1682346672.1357143: LEDs are still running with runtime 0.2 secs. Cut short with 200.0 milliseconds left. \n",
      "Error in Arena 10 at 1682346672.1367116: LEDs are still running with runtime 0.2 secs. Cut short with 199.00269508361816 milliseconds left. \n",
      "Error in Arena 11 at 1682346672.1377082: LEDs are still running with runtime 0.2 secs. Cut short with 198.00610542297363 milliseconds left. \n",
      "Error in Arena 10 at 1682346674.1507914: LEDs are still running with runtime 0.2 secs. Cut short with 200.0 milliseconds left. \n",
      "Error in Arena 11 at 1682346674.1524405: LEDs are still running with runtime 0.2 secs. Cut short with 198.3508586883545 milliseconds left. \n",
      "Error in Arena 11 at 1682346676.1658216: LEDs are still running with runtime 0.2 secs. Cut short with 200.0 milliseconds left. \n",
      "Error in Arena 13 at 1682346680.1940672: LEDs are still running with runtime 0.2 secs. Cut short with 200.0 milliseconds left. \n",
      "Error in Arena 14 at 1682346680.1950643: LEDs are still running with runtime 0.2 secs. Cut short with 199.00293350219727 milliseconds left. \n",
      "Error in Arena 15 at 1682346680.1960623: LEDs are still running with runtime 0.2 secs. Cut short with 198.00491333007812 milliseconds left. \n",
      "Error in Arena 14 at 1682346682.2084818: LEDs are still running with runtime 0.2 secs. Cut short with 200.0 milliseconds left. \n",
      "Error in Arena 15 at 1682346682.2104743: LEDs are still running with runtime 0.2 secs. Cut short with 198.00753593444824 milliseconds left. \n",
      "Error in Arena 15 at 1682346684.2224917: LEDs are still running with runtime 0.2 secs. Cut short with 200.0 milliseconds left. \n"
     ]
    },
    {
     "ename": "KeyboardInterrupt",
     "evalue": "",
     "output_type": "error",
     "traceback": [
      "\u001b[1;31m---------------------------------------------------------------------------\u001b[0m",
      "\u001b[1;31mKeyboardInterrupt\u001b[0m                         Traceback (most recent call last)",
      "\u001b[1;32mc:\\16YArena\\TurnerLab_Opto2AFC_16Y\\sixteeny\\tests\\led_test.ipynb Cell 4\u001b[0m in \u001b[0;36m<cell line: 1>\u001b[1;34m()\u001b[0m\n\u001b[0;32m      <a href='vscode-notebook-cell:/c%3A/16YArena/TurnerLab_Opto2AFC_16Y/sixteeny/tests/led_test.ipynb#W3sZmlsZQ%3D%3D?line=6'>7</a>\u001b[0m LC\u001b[39m.\u001b[39maccumulate_led_stimulus(arena,color,\u001b[39m100\u001b[39m,PULSE_WIDTH,PULSE_PERIOD,\u001b[39m1\u001b[39m,PULSE_DEADTIME,PULSE_DELAY,PULSE_REPEAT,debug_mode\u001b[39m=\u001b[39m\u001b[39mFalse\u001b[39;00m)\n\u001b[0;32m      <a href='vscode-notebook-cell:/c%3A/16YArena/TurnerLab_Opto2AFC_16Y/sixteeny/tests/led_test.ipynb#W3sZmlsZQ%3D%3D?line=7'>8</a>\u001b[0m LC\u001b[39m.\u001b[39mrun_accumulated_led_stimulus()\n\u001b[1;32m----> <a href='vscode-notebook-cell:/c%3A/16YArena/TurnerLab_Opto2AFC_16Y/sixteeny/tests/led_test.ipynb#W3sZmlsZQ%3D%3D?line=8'>9</a>\u001b[0m time\u001b[39m.\u001b[39;49msleep(\u001b[39m2\u001b[39;49m)\n",
      "\u001b[1;31mKeyboardInterrupt\u001b[0m: "
     ]
    }
   ],
   "source": [
    "with LEDController(ports=['COM13','COM5','COM12','COM4']) as LC:\n",
    "    LC.turn_on_backlight(100)\n",
    "    while True:\n",
    "        for color in [b'R',b'G',b'B']:\n",
    "            for arena in range(16):\n",
    "                LC.reset_accumulated_led_stimulus()\n",
    "                LC.accumulate_led_stimulus(arena,color,100,PULSE_WIDTH,PULSE_PERIOD,1,PULSE_DEADTIME,PULSE_DELAY,PULSE_REPEAT,debug_mode=False)\n",
    "                LC.run_accumulated_led_stimulus()\n",
    "                time.sleep(2)\n",
    "            "
   ]
  },
  {
   "cell_type": "code",
   "execution_count": null,
   "id": "732761fe",
   "metadata": {},
   "outputs": [
    {
     "name": "stdout",
     "output_type": "stream",
     "text": [
      "LED controllers initialized\n"
     ]
    },
    {
     "ename": "KeyboardInterrupt",
     "evalue": "",
     "output_type": "error",
     "traceback": [
      "\u001b[1;31m---------------------------------------------------------------------------\u001b[0m",
      "\u001b[1;31mKeyboardInterrupt\u001b[0m                         Traceback (most recent call last)",
      "\u001b[1;32mc:\\16YArena\\TurnerLab_Opto2AFC_16Y\\sixteeny\\tests\\led_test.ipynb Cell 5\u001b[0m in \u001b[0;36m<cell line: 1>\u001b[1;34m()\u001b[0m\n\u001b[0;32m      <a href='vscode-notebook-cell:/c%3A/16YArena/TurnerLab_Opto2AFC_16Y/sixteeny/tests/led_test.ipynb#W4sZmlsZQ%3D%3D?line=5'>6</a>\u001b[0m     LC\u001b[39m.\u001b[39maccumulate_led_stimulus(arena,\u001b[39mb\u001b[39m\u001b[39m'\u001b[39m\u001b[39mR\u001b[39m\u001b[39m'\u001b[39m,\u001b[39m100\u001b[39m,PULSE_WIDTH,PULSE_PERIOD,PULSE_COUNT,PULSE_DEADTIME,PULSE_DELAY,PULSE_REPEAT,debug_mode\u001b[39m=\u001b[39m\u001b[39mFalse\u001b[39;00m)\n\u001b[0;32m      <a href='vscode-notebook-cell:/c%3A/16YArena/TurnerLab_Opto2AFC_16Y/sixteeny/tests/led_test.ipynb#W4sZmlsZQ%3D%3D?line=6'>7</a>\u001b[0m LC\u001b[39m.\u001b[39mrun_accumulated_led_stimulus()\n\u001b[1;32m----> <a href='vscode-notebook-cell:/c%3A/16YArena/TurnerLab_Opto2AFC_16Y/sixteeny/tests/led_test.ipynb#W4sZmlsZQ%3D%3D?line=7'>8</a>\u001b[0m time\u001b[39m.\u001b[39;49msleep(\u001b[39m1\u001b[39;49m)\n\u001b[0;32m     <a href='vscode-notebook-cell:/c%3A/16YArena/TurnerLab_Opto2AFC_16Y/sixteeny/tests/led_test.ipynb#W4sZmlsZQ%3D%3D?line=9'>10</a>\u001b[0m \u001b[39m# for i in range(4):\u001b[39;00m\n\u001b[0;32m     <a href='vscode-notebook-cell:/c%3A/16YArena/TurnerLab_Opto2AFC_16Y/sixteeny/tests/led_test.ipynb#W4sZmlsZQ%3D%3D?line=10'>11</a>\u001b[0m \u001b[39m#     LC.conns[i].write(b'RESET\\r')\u001b[39;00m\n\u001b[0;32m     <a href='vscode-notebook-cell:/c%3A/16YArena/TurnerLab_Opto2AFC_16Y/sixteeny/tests/led_test.ipynb#W4sZmlsZQ%3D%3D?line=11'>12</a>\u001b[0m \u001b[39m# time.sleep(1)\u001b[39;00m\n\u001b[0;32m     <a href='vscode-notebook-cell:/c%3A/16YArena/TurnerLab_Opto2AFC_16Y/sixteeny/tests/led_test.ipynb#W4sZmlsZQ%3D%3D?line=13'>14</a>\u001b[0m LC\u001b[39m.\u001b[39mreset_accumulated_led_stimulus()\n",
      "\u001b[1;31mKeyboardInterrupt\u001b[0m: "
     ]
    }
   ],
   "source": [
    "with LEDController(ports=['COM13','COM5','COM12','COM4']) as LC:\n",
    "    LC.turn_on_backlight(100)\n",
    "    while True:\n",
    "        LC.reset_accumulated_led_stimulus()\n",
    "        for arena in range(16):\n",
    "            LC.accumulate_led_stimulus(arena,b'R',100,PULSE_WIDTH,PULSE_PERIOD,PULSE_COUNT,PULSE_DEADTIME,PULSE_DELAY,PULSE_REPEAT,debug_mode=False)\n",
    "        LC.run_accumulated_led_stimulus()\n",
    "        time.sleep(1)\n",
    "        \n",
    "        # for i in range(4):\n",
    "        #     LC.conns[i].write(b'RESET\\r')\n",
    "        # time.sleep(1)\n",
    "\n",
    "        LC.reset_accumulated_led_stimulus()\n",
    "        for arena in range(16):\n",
    "            LC.accumulate_led_stimulus(arena,b'R',100,PULSE_WIDTH//2,PULSE_PERIOD//2,PULSE_COUNT*2,PULSE_DEADTIME,PULSE_DELAY,PULSE_REPEAT,debug_mode=False)\n",
    "        LC.run_accumulated_led_stimulus()\n",
    "        time.sleep(1)\n",
    "\n",
    "        # for i in range(4):\n",
    "        #     LC.conns[i].write(b'RESET\\r')\n",
    "        # time.sleep(1)\n",
    "    "
   ]
  },
  {
   "cell_type": "code",
   "execution_count": 4,
   "id": "7806565a",
   "metadata": {},
   "outputs": [
    {
     "name": "stdout",
     "output_type": "stream",
     "text": [
      "LED controllers initialized\n",
      "b'--------------\\r\\nRGB LED V:20220621Q\\r\\n\\r\\nPARAMETER      BLU  GRN  RED DIG\\r\\nintensity   %: 0 0 0 0 \\npul'\n",
      "b'--------------\\r\\nRGB LED V:20220621Q\\r\\n\\r\\nPARAMETER      BLU  GRN  RED DIG\\r\\nintensity   %: 0 0 0 0 \\npul'\n",
      "b'--------------\\r\\nRGB LED V:20220621Q\\r\\n\\r\\nPARAMETER      BLU  GRN  RED DIG\\r\\nintensity   %: 0 0 0 0 \\npul'\n",
      "b'--------------\\r\\nRGB LED V:20220621Q\\r\\n\\r\\nPARAMETER      BLU  GRN  RED DIG\\r\\nintensity   %: 0 0 0 0 \\npul'\n"
     ]
    }
   ],
   "source": [
    "with LEDController(ports=['COM13','COM5','COM12','COM4']) as LC:\n",
    "    for i in range(4):\n",
    "        LC.conns[i].write(b'???\\r\\n')\n",
    "        #read response\n",
    "        response = LC.conns[i].read(100)\n",
    "        print(response)"
   ]
  },
  {
   "cell_type": "code",
   "execution_count": 12,
   "id": "8786a78e-9284-4118-8024-e5c3c38de7ef",
   "metadata": {},
   "outputs": [
    {
     "data": {
      "text/plain": [
       "<controller.led.LEDController at 0x2ce032f26a0>"
      ]
     },
     "execution_count": 12,
     "metadata": {},
     "output_type": "execute_result"
    }
   ],
   "source": [
    "LC = LEDController(ports=['COM9','COM5','COM11','COM4'])\n",
    "LC.__enter__()"
   ]
  },
  {
   "cell_type": "code",
   "execution_count": 13,
   "id": "90c33e06",
   "metadata": {},
   "outputs": [],
   "source": [
    "LC.turn_on_backlight(100)"
   ]
  },
  {
   "cell_type": "code",
   "execution_count": 14,
   "id": "f81352bc",
   "metadata": {},
   "outputs": [
    {
     "name": "stdout",
     "output_type": "stream",
     "text": [
      "Accumulating on arena:0\n",
      "{0: [[25, 0, 0], [0, 0, 0], [0, 0, 0], [0, 0, 0]], 1: [[0, 0, 0], [0, 0, 0], [0, 0, 0], [0, 0, 0]], 2: [[0, 0, 0], [0, 0, 0], [0, 0, 0], [0, 0, 0]], 3: [[0, 0, 0], [0, 0, 0], [0, 0, 0], [0, 0, 0]]}\n",
      "{0: [[[500, 1000, 1, 0, 0, 1], [0, 0, 0, 0, 0, 0], [0, 0, 0, 0, 0, 0]], [[500, 1000, 1, 0, 0, 1], [0, 0, 0, 0, 0, 0], [0, 0, 0, 0, 0, 0]], [[500, 1000, 1, 0, 0, 1], [0, 0, 0, 0, 0, 0], [0, 0, 0, 0, 0, 0]], [[500, 1000, 1, 0, 0, 1], [0, 0, 0, 0, 0, 0], [0, 0, 0, 0, 0, 0]]], 1: [[[500, 1000, 1, 0, 0, 1], [0, 0, 0, 0, 0, 0], [0, 0, 0, 0, 0, 0]], [[500, 1000, 1, 0, 0, 1], [0, 0, 0, 0, 0, 0], [0, 0, 0, 0, 0, 0]], [[500, 1000, 1, 0, 0, 1], [0, 0, 0, 0, 0, 0], [0, 0, 0, 0, 0, 0]], [[500, 1000, 1, 0, 0, 1], [0, 0, 0, 0, 0, 0], [0, 0, 0, 0, 0, 0]]], 2: [[[500, 1000, 1, 0, 0, 1], [0, 0, 0, 0, 0, 0], [0, 0, 0, 0, 0, 0]], [[500, 1000, 1, 0, 0, 1], [0, 0, 0, 0, 0, 0], [0, 0, 0, 0, 0, 0]], [[500, 1000, 1, 0, 0, 1], [0, 0, 0, 0, 0, 0], [0, 0, 0, 0, 0, 0]], [[500, 1000, 1, 0, 0, 1], [0, 0, 0, 0, 0, 0], [0, 0, 0, 0, 0, 0]]], 3: [[[500, 1000, 1, 0, 0, 1], [0, 0, 0, 0, 0, 0], [0, 0, 0, 0, 0, 0]], [[500, 1000, 1, 0, 0, 1], [0, 0, 0, 0, 0, 0], [0, 0, 0, 0, 0, 0]], [[500, 1000, 1, 0, 0, 1], [0, 0, 0, 0, 0, 0], [0, 0, 0, 0, 0, 0]], [[500, 1000, 1, 0, 0, 1], [0, 0, 0, 0, 0, 0], [0, 0, 0, 0, 0, 0]]]}\n",
      "Accumulating on arena:1\n",
      "{0: [[25, 0, 0], [0, 0, 0], [0, 0, 0], [0, 0, 0]], 1: [[0, 0, 0], [0, 0, 0], [0, 0, 0], [0, 0, 0]], 2: [[0, 0, 0], [0, 0, 0], [0, 0, 0], [0, 0, 0]], 3: [[0, 0, 0], [0, 0, 0], [0, 0, 0], [0, 0, 0]]}\n",
      "{0: [[[500, 1000, 1, 0, 0, 1], [0, 0, 0, 0, 0, 0], [0, 0, 0, 0, 0, 0]], [[500, 1000, 1, 0, 0, 1], [0, 0, 0, 0, 0, 0], [0, 0, 0, 0, 0, 0]], [[500, 1000, 1, 0, 0, 1], [0, 0, 0, 0, 0, 0], [0, 0, 0, 0, 0, 0]], [[500, 1000, 1, 0, 0, 1], [0, 0, 0, 0, 0, 0], [0, 0, 0, 0, 0, 0]]], 1: [[[500, 1000, 1, 0, 0, 1], [0, 0, 0, 0, 0, 0], [0, 0, 0, 0, 0, 0]], [[500, 1000, 1, 0, 0, 1], [0, 0, 0, 0, 0, 0], [0, 0, 0, 0, 0, 0]], [[500, 1000, 1, 0, 0, 1], [0, 0, 0, 0, 0, 0], [0, 0, 0, 0, 0, 0]], [[500, 1000, 1, 0, 0, 1], [0, 0, 0, 0, 0, 0], [0, 0, 0, 0, 0, 0]]], 2: [[[500, 1000, 1, 0, 0, 1], [0, 0, 0, 0, 0, 0], [0, 0, 0, 0, 0, 0]], [[500, 1000, 1, 0, 0, 1], [0, 0, 0, 0, 0, 0], [0, 0, 0, 0, 0, 0]], [[500, 1000, 1, 0, 0, 1], [0, 0, 0, 0, 0, 0], [0, 0, 0, 0, 0, 0]], [[500, 1000, 1, 0, 0, 1], [0, 0, 0, 0, 0, 0], [0, 0, 0, 0, 0, 0]]], 3: [[[500, 1000, 1, 0, 0, 1], [0, 0, 0, 0, 0, 0], [0, 0, 0, 0, 0, 0]], [[500, 1000, 1, 0, 0, 1], [0, 0, 0, 0, 0, 0], [0, 0, 0, 0, 0, 0]], [[500, 1000, 1, 0, 0, 1], [0, 0, 0, 0, 0, 0], [0, 0, 0, 0, 0, 0]], [[500, 1000, 1, 0, 0, 1], [0, 0, 0, 0, 0, 0], [0, 0, 0, 0, 0, 0]]]}\n",
      "Accumulating on arena:2\n",
      "{0: [[25, 0, 0], [0, 0, 0], [5, 0, 0], [0, 0, 0]], 1: [[0, 0, 0], [0, 0, 0], [0, 0, 0], [0, 0, 0]], 2: [[0, 0, 0], [0, 0, 0], [0, 0, 0], [0, 0, 0]], 3: [[0, 0, 0], [0, 0, 0], [0, 0, 0], [0, 0, 0]]}\n",
      "{0: [[[500, 1000, 1, 0, 0, 1], [0, 0, 0, 0, 0, 0], [0, 0, 0, 0, 0, 0]], [[500, 1000, 1, 0, 0, 1], [0, 0, 0, 0, 0, 0], [0, 0, 0, 0, 0, 0]], [[500, 1000, 1, 0, 0, 1], [0, 0, 0, 0, 0, 0], [0, 0, 0, 0, 0, 0]], [[500, 1000, 1, 0, 0, 1], [0, 0, 0, 0, 0, 0], [0, 0, 0, 0, 0, 0]]], 1: [[[500, 1000, 1, 0, 0, 1], [0, 0, 0, 0, 0, 0], [0, 0, 0, 0, 0, 0]], [[500, 1000, 1, 0, 0, 1], [0, 0, 0, 0, 0, 0], [0, 0, 0, 0, 0, 0]], [[500, 1000, 1, 0, 0, 1], [0, 0, 0, 0, 0, 0], [0, 0, 0, 0, 0, 0]], [[500, 1000, 1, 0, 0, 1], [0, 0, 0, 0, 0, 0], [0, 0, 0, 0, 0, 0]]], 2: [[[500, 1000, 1, 0, 0, 1], [0, 0, 0, 0, 0, 0], [0, 0, 0, 0, 0, 0]], [[500, 1000, 1, 0, 0, 1], [0, 0, 0, 0, 0, 0], [0, 0, 0, 0, 0, 0]], [[500, 1000, 1, 0, 0, 1], [0, 0, 0, 0, 0, 0], [0, 0, 0, 0, 0, 0]], [[500, 1000, 1, 0, 0, 1], [0, 0, 0, 0, 0, 0], [0, 0, 0, 0, 0, 0]]], 3: [[[500, 1000, 1, 0, 0, 1], [0, 0, 0, 0, 0, 0], [0, 0, 0, 0, 0, 0]], [[500, 1000, 1, 0, 0, 1], [0, 0, 0, 0, 0, 0], [0, 0, 0, 0, 0, 0]], [[500, 1000, 1, 0, 0, 1], [0, 0, 0, 0, 0, 0], [0, 0, 0, 0, 0, 0]], [[500, 1000, 1, 0, 0, 1], [0, 0, 0, 0, 0, 0], [0, 0, 0, 0, 0, 0]]]}\n",
      "Accumulating on arena:3\n",
      "{0: [[25, 0, 0], [0, 0, 0], [5, 0, 0], [1, 0, 0]], 1: [[0, 0, 0], [0, 0, 0], [0, 0, 0], [0, 0, 0]], 2: [[0, 0, 0], [0, 0, 0], [0, 0, 0], [0, 0, 0]], 3: [[0, 0, 0], [0, 0, 0], [0, 0, 0], [0, 0, 0]]}\n",
      "{0: [[[500, 1000, 1, 0, 0, 1], [0, 0, 0, 0, 0, 0], [0, 0, 0, 0, 0, 0]], [[500, 1000, 1, 0, 0, 1], [0, 0, 0, 0, 0, 0], [0, 0, 0, 0, 0, 0]], [[500, 1000, 1, 0, 0, 1], [0, 0, 0, 0, 0, 0], [0, 0, 0, 0, 0, 0]], [[500, 1000, 1, 0, 0, 1], [0, 0, 0, 0, 0, 0], [0, 0, 0, 0, 0, 0]]], 1: [[[500, 1000, 1, 0, 0, 1], [0, 0, 0, 0, 0, 0], [0, 0, 0, 0, 0, 0]], [[500, 1000, 1, 0, 0, 1], [0, 0, 0, 0, 0, 0], [0, 0, 0, 0, 0, 0]], [[500, 1000, 1, 0, 0, 1], [0, 0, 0, 0, 0, 0], [0, 0, 0, 0, 0, 0]], [[500, 1000, 1, 0, 0, 1], [0, 0, 0, 0, 0, 0], [0, 0, 0, 0, 0, 0]]], 2: [[[500, 1000, 1, 0, 0, 1], [0, 0, 0, 0, 0, 0], [0, 0, 0, 0, 0, 0]], [[500, 1000, 1, 0, 0, 1], [0, 0, 0, 0, 0, 0], [0, 0, 0, 0, 0, 0]], [[500, 1000, 1, 0, 0, 1], [0, 0, 0, 0, 0, 0], [0, 0, 0, 0, 0, 0]], [[500, 1000, 1, 0, 0, 1], [0, 0, 0, 0, 0, 0], [0, 0, 0, 0, 0, 0]]], 3: [[[500, 1000, 1, 0, 0, 1], [0, 0, 0, 0, 0, 0], [0, 0, 0, 0, 0, 0]], [[500, 1000, 1, 0, 0, 1], [0, 0, 0, 0, 0, 0], [0, 0, 0, 0, 0, 0]], [[500, 1000, 1, 0, 0, 1], [0, 0, 0, 0, 0, 0], [0, 0, 0, 0, 0, 0]], [[500, 1000, 1, 0, 0, 1], [0, 0, 0, 0, 0, 0], [0, 0, 0, 0, 0, 0]]]}\n",
      "Accumulating on arena:4\n",
      "{0: [[25, 0, 0], [0, 0, 0], [5, 0, 0], [1, 0, 0]], 1: [[25, 0, 0], [0, 0, 0], [0, 0, 0], [0, 0, 0]], 2: [[0, 0, 0], [0, 0, 0], [0, 0, 0], [0, 0, 0]], 3: [[0, 0, 0], [0, 0, 0], [0, 0, 0], [0, 0, 0]]}\n",
      "{0: [[[500, 1000, 1, 0, 0, 1], [0, 0, 0, 0, 0, 0], [0, 0, 0, 0, 0, 0]], [[500, 1000, 1, 0, 0, 1], [0, 0, 0, 0, 0, 0], [0, 0, 0, 0, 0, 0]], [[500, 1000, 1, 0, 0, 1], [0, 0, 0, 0, 0, 0], [0, 0, 0, 0, 0, 0]], [[500, 1000, 1, 0, 0, 1], [0, 0, 0, 0, 0, 0], [0, 0, 0, 0, 0, 0]]], 1: [[[500, 1000, 1, 0, 0, 1], [0, 0, 0, 0, 0, 0], [0, 0, 0, 0, 0, 0]], [[500, 1000, 1, 0, 0, 1], [0, 0, 0, 0, 0, 0], [0, 0, 0, 0, 0, 0]], [[500, 1000, 1, 0, 0, 1], [0, 0, 0, 0, 0, 0], [0, 0, 0, 0, 0, 0]], [[500, 1000, 1, 0, 0, 1], [0, 0, 0, 0, 0, 0], [0, 0, 0, 0, 0, 0]]], 2: [[[500, 1000, 1, 0, 0, 1], [0, 0, 0, 0, 0, 0], [0, 0, 0, 0, 0, 0]], [[500, 1000, 1, 0, 0, 1], [0, 0, 0, 0, 0, 0], [0, 0, 0, 0, 0, 0]], [[500, 1000, 1, 0, 0, 1], [0, 0, 0, 0, 0, 0], [0, 0, 0, 0, 0, 0]], [[500, 1000, 1, 0, 0, 1], [0, 0, 0, 0, 0, 0], [0, 0, 0, 0, 0, 0]]], 3: [[[500, 1000, 1, 0, 0, 1], [0, 0, 0, 0, 0, 0], [0, 0, 0, 0, 0, 0]], [[500, 1000, 1, 0, 0, 1], [0, 0, 0, 0, 0, 0], [0, 0, 0, 0, 0, 0]], [[500, 1000, 1, 0, 0, 1], [0, 0, 0, 0, 0, 0], [0, 0, 0, 0, 0, 0]], [[500, 1000, 1, 0, 0, 1], [0, 0, 0, 0, 0, 0], [0, 0, 0, 0, 0, 0]]]}\n",
      "Accumulating on arena:5\n",
      "{0: [[25, 0, 0], [0, 0, 0], [5, 0, 0], [1, 0, 0]], 1: [[25, 0, 0], [0, 0, 0], [0, 0, 0], [0, 0, 0]], 2: [[0, 0, 0], [0, 0, 0], [0, 0, 0], [0, 0, 0]], 3: [[0, 0, 0], [0, 0, 0], [0, 0, 0], [0, 0, 0]]}\n",
      "{0: [[[500, 1000, 1, 0, 0, 1], [0, 0, 0, 0, 0, 0], [0, 0, 0, 0, 0, 0]], [[500, 1000, 1, 0, 0, 1], [0, 0, 0, 0, 0, 0], [0, 0, 0, 0, 0, 0]], [[500, 1000, 1, 0, 0, 1], [0, 0, 0, 0, 0, 0], [0, 0, 0, 0, 0, 0]], [[500, 1000, 1, 0, 0, 1], [0, 0, 0, 0, 0, 0], [0, 0, 0, 0, 0, 0]]], 1: [[[500, 1000, 1, 0, 0, 1], [0, 0, 0, 0, 0, 0], [0, 0, 0, 0, 0, 0]], [[500, 1000, 1, 0, 0, 1], [0, 0, 0, 0, 0, 0], [0, 0, 0, 0, 0, 0]], [[500, 1000, 1, 0, 0, 1], [0, 0, 0, 0, 0, 0], [0, 0, 0, 0, 0, 0]], [[500, 1000, 1, 0, 0, 1], [0, 0, 0, 0, 0, 0], [0, 0, 0, 0, 0, 0]]], 2: [[[500, 1000, 1, 0, 0, 1], [0, 0, 0, 0, 0, 0], [0, 0, 0, 0, 0, 0]], [[500, 1000, 1, 0, 0, 1], [0, 0, 0, 0, 0, 0], [0, 0, 0, 0, 0, 0]], [[500, 1000, 1, 0, 0, 1], [0, 0, 0, 0, 0, 0], [0, 0, 0, 0, 0, 0]], [[500, 1000, 1, 0, 0, 1], [0, 0, 0, 0, 0, 0], [0, 0, 0, 0, 0, 0]]], 3: [[[500, 1000, 1, 0, 0, 1], [0, 0, 0, 0, 0, 0], [0, 0, 0, 0, 0, 0]], [[500, 1000, 1, 0, 0, 1], [0, 0, 0, 0, 0, 0], [0, 0, 0, 0, 0, 0]], [[500, 1000, 1, 0, 0, 1], [0, 0, 0, 0, 0, 0], [0, 0, 0, 0, 0, 0]], [[500, 1000, 1, 0, 0, 1], [0, 0, 0, 0, 0, 0], [0, 0, 0, 0, 0, 0]]]}\n",
      "Accumulating on arena:6\n",
      "{0: [[25, 0, 0], [0, 0, 0], [5, 0, 0], [1, 0, 0]], 1: [[25, 0, 0], [0, 0, 0], [5, 0, 0], [0, 0, 0]], 2: [[0, 0, 0], [0, 0, 0], [0, 0, 0], [0, 0, 0]], 3: [[0, 0, 0], [0, 0, 0], [0, 0, 0], [0, 0, 0]]}\n",
      "{0: [[[500, 1000, 1, 0, 0, 1], [0, 0, 0, 0, 0, 0], [0, 0, 0, 0, 0, 0]], [[500, 1000, 1, 0, 0, 1], [0, 0, 0, 0, 0, 0], [0, 0, 0, 0, 0, 0]], [[500, 1000, 1, 0, 0, 1], [0, 0, 0, 0, 0, 0], [0, 0, 0, 0, 0, 0]], [[500, 1000, 1, 0, 0, 1], [0, 0, 0, 0, 0, 0], [0, 0, 0, 0, 0, 0]]], 1: [[[500, 1000, 1, 0, 0, 1], [0, 0, 0, 0, 0, 0], [0, 0, 0, 0, 0, 0]], [[500, 1000, 1, 0, 0, 1], [0, 0, 0, 0, 0, 0], [0, 0, 0, 0, 0, 0]], [[500, 1000, 1, 0, 0, 1], [0, 0, 0, 0, 0, 0], [0, 0, 0, 0, 0, 0]], [[500, 1000, 1, 0, 0, 1], [0, 0, 0, 0, 0, 0], [0, 0, 0, 0, 0, 0]]], 2: [[[500, 1000, 1, 0, 0, 1], [0, 0, 0, 0, 0, 0], [0, 0, 0, 0, 0, 0]], [[500, 1000, 1, 0, 0, 1], [0, 0, 0, 0, 0, 0], [0, 0, 0, 0, 0, 0]], [[500, 1000, 1, 0, 0, 1], [0, 0, 0, 0, 0, 0], [0, 0, 0, 0, 0, 0]], [[500, 1000, 1, 0, 0, 1], [0, 0, 0, 0, 0, 0], [0, 0, 0, 0, 0, 0]]], 3: [[[500, 1000, 1, 0, 0, 1], [0, 0, 0, 0, 0, 0], [0, 0, 0, 0, 0, 0]], [[500, 1000, 1, 0, 0, 1], [0, 0, 0, 0, 0, 0], [0, 0, 0, 0, 0, 0]], [[500, 1000, 1, 0, 0, 1], [0, 0, 0, 0, 0, 0], [0, 0, 0, 0, 0, 0]], [[500, 1000, 1, 0, 0, 1], [0, 0, 0, 0, 0, 0], [0, 0, 0, 0, 0, 0]]]}\n",
      "Accumulating on arena:7\n",
      "{0: [[25, 0, 0], [0, 0, 0], [5, 0, 0], [1, 0, 0]], 1: [[25, 0, 0], [0, 0, 0], [5, 0, 0], [1, 0, 0]], 2: [[0, 0, 0], [0, 0, 0], [0, 0, 0], [0, 0, 0]], 3: [[0, 0, 0], [0, 0, 0], [0, 0, 0], [0, 0, 0]]}\n",
      "{0: [[[500, 1000, 1, 0, 0, 1], [0, 0, 0, 0, 0, 0], [0, 0, 0, 0, 0, 0]], [[500, 1000, 1, 0, 0, 1], [0, 0, 0, 0, 0, 0], [0, 0, 0, 0, 0, 0]], [[500, 1000, 1, 0, 0, 1], [0, 0, 0, 0, 0, 0], [0, 0, 0, 0, 0, 0]], [[500, 1000, 1, 0, 0, 1], [0, 0, 0, 0, 0, 0], [0, 0, 0, 0, 0, 0]]], 1: [[[500, 1000, 1, 0, 0, 1], [0, 0, 0, 0, 0, 0], [0, 0, 0, 0, 0, 0]], [[500, 1000, 1, 0, 0, 1], [0, 0, 0, 0, 0, 0], [0, 0, 0, 0, 0, 0]], [[500, 1000, 1, 0, 0, 1], [0, 0, 0, 0, 0, 0], [0, 0, 0, 0, 0, 0]], [[500, 1000, 1, 0, 0, 1], [0, 0, 0, 0, 0, 0], [0, 0, 0, 0, 0, 0]]], 2: [[[500, 1000, 1, 0, 0, 1], [0, 0, 0, 0, 0, 0], [0, 0, 0, 0, 0, 0]], [[500, 1000, 1, 0, 0, 1], [0, 0, 0, 0, 0, 0], [0, 0, 0, 0, 0, 0]], [[500, 1000, 1, 0, 0, 1], [0, 0, 0, 0, 0, 0], [0, 0, 0, 0, 0, 0]], [[500, 1000, 1, 0, 0, 1], [0, 0, 0, 0, 0, 0], [0, 0, 0, 0, 0, 0]]], 3: [[[500, 1000, 1, 0, 0, 1], [0, 0, 0, 0, 0, 0], [0, 0, 0, 0, 0, 0]], [[500, 1000, 1, 0, 0, 1], [0, 0, 0, 0, 0, 0], [0, 0, 0, 0, 0, 0]], [[500, 1000, 1, 0, 0, 1], [0, 0, 0, 0, 0, 0], [0, 0, 0, 0, 0, 0]], [[500, 1000, 1, 0, 0, 1], [0, 0, 0, 0, 0, 0], [0, 0, 0, 0, 0, 0]]]}\n",
      "Flash on arena 3 quadrant 0100 conn 0\n",
      "Flash on arena 2 quadrant 1000 conn 0\n",
      "Flash on arena 0 quadrant 0001 conn 0\n",
      "Flash on arena 7 quadrant 0100 conn 1\n",
      "Flash on arena 6 quadrant 1000 conn 1\n",
      "Flash on arena 4 quadrant 0001 conn 1\n"
     ]
    }
   ],
   "source": [
    "# LC.accumulate_led_stimulus(0,b'R',100,PULSE_WIDTH,PULSE_PERIOD,PULSE_COUNT,PULSE_DEADTIME,PULSE_DELAY,PULSE_REPEAT,debug_mode=True)\n",
    "# LC.accumulate_led_stimulus(1,b'R',25,PULSE_WIDTH,PULSE_PERIOD,PULSE_COUNT,PULSE_DEADTIME,PULSE_DELAY,PULSE_REPEAT,debug_mode=True)\n",
    "# LC.accumulate_led_stimulus(2,b'R',10,PULSE_WIDTH,PULSE_PERIOD,PULSE_COUNT,PULSE_DEADTIME,PULSE_DELAY,PULSE_REPEAT,debug_mode=True)\n",
    "# LC.accumulate_led_stimulus(3,b'R',5,PULSE_WIDTH,PULSE_PERIOD,PULSE_COUNT,PULSE_DEADTIME,PULSE_DELAY,PULSE_REPEAT,debug_mode=True)\n",
    "# LC.reset_accumulated_led_stimulus()\n",
    "# time.sleep(2)\n",
    "# for i in range(100):\n",
    "for arena,intensity in zip([0,1,2,3,4,5,6,7],[25,0,5,1,25,0,5,1]):\n",
    "    LC.accumulate_led_stimulus(arena,b'R',intensity,PULSE_WIDTH,PULSE_PERIOD,PULSE_COUNT,PULSE_DEADTIME,PULSE_DELAY,PULSE_REPEAT,debug_mode=True)\n",
    "    print(LC.color_state)\n",
    "    print(LC.pulse_state)\n",
    "LC.run_accumulated_led_stimulus()\n",
    "time.sleep(1)"
   ]
  },
  {
   "cell_type": "code",
   "execution_count": 11,
   "id": "76bbc0c1",
   "metadata": {},
   "outputs": [],
   "source": [
    "LC.close()"
   ]
  },
  {
   "cell_type": "code",
   "execution_count": 24,
   "id": "1a36f5fb",
   "metadata": {},
   "outputs": [],
   "source": [
    "LC = LEDController(ports=['COM9','COM5','COM11','COM4'])\n",
    "LC.__enter__()\n",
    "LC.conns[0].write(b'RESET\\r')\n",
    "time.sleep(1)\n",
    "LC.conns[0].write(b'PULSE 500 1000 1 0 0 1 R\\r')\n",
    "for i,intensity in zip([b'0001',b'0010',b'0100',b'1000'],[100,0,0,1]):\n",
    "    LC.conns[0].write(b'RED '+str(intensity).encode()+b' 0 '+i+b'\\r')\n",
    "LC.conns[0].write(b'RUN \\r')\n",
    "time.sleep(1)\n",
    "LC.close()"
   ]
  },
  {
   "cell_type": "code",
   "execution_count": 17,
   "id": "5184f6f6",
   "metadata": {},
   "outputs": [
    {
     "name": "stdout",
     "output_type": "stream",
     "text": [
      "LED controllers initialized\n"
     ]
    }
   ],
   "source": [
    "LC = LEDController(ports=['COM5'])\n",
    "LC.__enter__()\n",
    "LC.conns[0].write(b'RESET\\r')\n",
    "time.sleep(1)\n",
    "LC.conns[0].write(b'PULSE 5000 5000 1 0 0 1 R\\r')\n",
    "LC.conns[0].write(b'PULSE 5000 5000 1 0 0 1 B\\r')\n",
    "LC.conns[0].write(b'RED 25 0 0001\\r')\n",
    "LC.conns[0].write(b'RED 25 0 0010\\r')\n",
    "LC.conns[0].write(b'RED 25 0 0100\\r')\n",
    "LC.conns[0].write(b'RED 25 0 1000\\r')\n",
    "LC.conns[0].write(b'BLU 25 0 0001\\r')\n",
    "LC.conns[0].write(b'BLU 25 0 0010\\r')\n",
    "LC.conns[0].write(b'BLU 25 0 0100\\r')\n",
    "LC.conns[0].write(b'BLU 25 0 1000\\r')\n",
    "LC.conns[0].write(b'RUN \\r')\n",
    "time.sleep(1)\n",
    "LC.close()"
   ]
  },
  {
   "cell_type": "code",
   "execution_count": 7,
   "id": "b73142f6",
   "metadata": {},
   "outputs": [
    {
     "name": "stdout",
     "output_type": "stream",
     "text": [
      "Arena: 8 Pulse 500 1000 1 0 0 1 R\n"
     ]
    }
   ],
   "source": [
    "LC.led_stimulation(8,b'R',25,PULSE_WIDTH,PULSE_PERIOD,PULSE_COUNT,PULSE_DEADTIME,PULSE_DELAY,PULSE_REPEAT,debug=True)"
   ]
  },
  {
   "cell_type": "code",
   "execution_count": 22,
   "id": "8e4b9076",
   "metadata": {},
   "outputs": [
    {
     "name": "stdout",
     "output_type": "stream",
     "text": [
      "Arena: 0 Pulse 500 1000 1 0 0 1 R\n",
      "Arena: 1 Pulse 500 1000 1 0 0 1 R\n",
      "Arena: 2 Pulse 500 1000 1 0 0 1 R\n",
      "Arena: 3 Pulse 500 1000 1 0 0 1 R\n",
      "Arena: 4 Pulse 500 1000 1 0 0 1 R\n",
      "Arena: 5 Pulse 500 1000 1 0 0 1 R\n",
      "Arena: 6 Pulse 500 1000 1 0 0 1 R\n",
      "Arena: 7 Pulse 500 1000 1 0 0 1 R\n",
      "Arena: 8 Pulse 500 1000 1 0 0 1 R\n",
      "Arena: 9 Pulse 500 1000 1 0 0 1 R\n",
      "Arena: 10 Pulse 500 1000 1 0 0 1 R\n",
      "Arena: 11 Pulse 500 1000 1 0 0 1 R\n",
      "Arena: 12 Pulse 500 1000 1 0 0 1 R\n",
      "Arena: 13 Pulse 500 1000 1 0 0 1 R\n",
      "Arena: 14 Pulse 500 1000 1 0 0 1 R\n",
      "Arena: 15 Pulse 500 1000 1 0 0 1 R\n"
     ]
    }
   ],
   "source": [
    "for i in range(16):\n",
    "    time.sleep(0.5)\n",
    "    LC.led_stimulation(i,b'R',100,PULSE_WIDTH,PULSE_PERIOD,PULSE_COUNT,PULSE_DEADTIME,PULSE_DELAY,PULSE_REPEAT,debug=True)"
   ]
  },
  {
   "cell_type": "code",
   "execution_count": 10,
   "id": "4fb4bc7e",
   "metadata": {},
   "outputs": [
    {
     "data": {
      "text/plain": [
       "5"
      ]
     },
     "execution_count": 10,
     "metadata": {},
     "output_type": "execute_result"
    }
   ],
   "source": [
    "LC.conns[2].write(b'RESET\\r')\n",
    "LC.conns[2].write(b'RED 25 0 0001\\r')\n",
    "LC.conns[2].write(b'PULSE 500 1000 1 0 0 1 R\\r')\n",
    "LC.conns[2].write(b'RUN \\r')\n",
    "# LC.conns[2].write(b'OFF 0 0001\\r')\n",
    "\n"
   ]
  },
  {
   "cell_type": "code",
   "execution_count": 15,
   "id": "67b8c5a5",
   "metadata": {},
   "outputs": [
    {
     "data": {
      "text/plain": [
       "10"
      ]
     },
     "execution_count": 15,
     "metadata": {},
     "output_type": "execute_result"
    }
   ],
   "source": [
    "LC.conns[2].write(b'RESET\\r')\n",
    "LC.conns[2].write(b'RED 25 0 0001\\r')\n",
    "# LC.conns[2].write(b'ON 0 0001')\n",
    "LC.conns[0].write(b'OFF 0 0001')"
   ]
  },
  {
   "cell_type": "code",
   "execution_count": 14,
   "id": "ee93aa10",
   "metadata": {},
   "outputs": [],
   "source": [
    "for i in range(4):\n",
    "    LC.conns[i].write(b'RESET\\r')\n",
    "    LC.conns[i].write(b'RED 20\\r')\n",
    "    LC.conns[i].write(b'OFF 0 0\\r')\n"
   ]
  },
  {
   "cell_type": "code",
   "execution_count": 10,
   "id": "26133d33-2391-400f-8a50-f6255e462853",
   "metadata": {},
   "outputs": [
    {
     "data": {
      "text/plain": [
       "6"
      ]
     },
     "execution_count": 10,
     "metadata": {},
     "output_type": "execute_result"
    }
   ],
   "source": [
    "LC.conns[2].write(b'RESET\\r')\n",
    "LC.conns[2].write(b'RED 0\\r')\n",
    "LC.conns[2].write(b'RED 20 0 1111\\r')\n",
    "LC.conns[2].write(b'RUN R\\r')\n"
   ]
  },
  {
   "cell_type": "code",
   "execution_count": 11,
   "id": "25e08602",
   "metadata": {},
   "outputs": [],
   "source": [
    "LC.set_led_stimulus_intensity(0,b'R',0)\n",
    "LC.set_led_stimulus_intensity(0,b'R',10)\n",
    "LC.run_led_stimulus(0)"
   ]
  },
  {
   "cell_type": "code",
   "execution_count": 12,
   "id": "c9fbef01",
   "metadata": {},
   "outputs": [
    {
     "data": {
      "text/plain": [
       "Serial<id=0x202562de1c0, open=True>(port='COM5', baudrate=115200, bytesize=8, parity='N', stopbits=1, timeout=None, xonxoff=False, rtscts=False, dsrdtr=False)"
      ]
     },
     "execution_count": 12,
     "metadata": {},
     "output_type": "execute_result"
    }
   ],
   "source": [
    "LC.conns[1]"
   ]
  },
  {
   "cell_type": "code",
   "execution_count": 13,
   "id": "47248529",
   "metadata": {},
   "outputs": [
    {
     "data": {
      "text/plain": [
       "6"
      ]
     },
     "execution_count": 13,
     "metadata": {},
     "output_type": "execute_result"
    }
   ],
   "source": [
    "LC.conns[1].write(b'RED 0\\r')"
   ]
  },
  {
   "cell_type": "code",
   "execution_count": 10,
   "id": "ab86b16d",
   "metadata": {},
   "outputs": [],
   "source": [
    "LC.close()"
   ]
  },
  {
   "cell_type": "code",
   "execution_count": 15,
   "id": "8f4d746c-6ddd-4db1-a9ed-3b03db284a15",
   "metadata": {},
   "outputs": [],
   "source": [
    "import cucim"
   ]
  },
  {
   "cell_type": "code",
   "execution_count": 16,
   "id": "3f829337-90d8-452f-88e3-484083a7198a",
   "metadata": {},
   "outputs": [
    {
     "name": "stdout",
     "output_type": "stream",
     "text": [
      "['COM1', 'COM3', 'COM4', 'COM5', 'COM6']\n"
     ]
    }
   ],
   "source": [
    "import sys\n",
    "import glob\n",
    "import serial\n",
    "\n",
    "\n",
    "def serial_ports():\n",
    "    \"\"\" Lists serial port names\n",
    "\n",
    "        :raises EnvironmentError:\n",
    "            On unsupported or unknown platforms\n",
    "        :returns:\n",
    "            A list of the serial ports available on the system\n",
    "    \"\"\"\n",
    "    if sys.platform.startswith('win'):\n",
    "        ports = ['COM%s' % (i + 1) for i in range(256)]\n",
    "    elif sys.platform.startswith('linux') or sys.platform.startswith('cygwin'):\n",
    "        # this excludes your current terminal \"/dev/tty\"\n",
    "        ports = glob.glob('/dev/tty[A-Za-z]*')\n",
    "    elif sys.platform.startswith('darwin'):\n",
    "        ports = glob.glob('/dev/tty.*')\n",
    "    else:\n",
    "        raise EnvironmentError('Unsupported platform')\n",
    "\n",
    "    result = []\n",
    "    for port in ports:\n",
    "        try:\n",
    "            s = serial.Serial(port)\n",
    "            s.close()\n",
    "            result.append(port)\n",
    "        except (OSError, serial.SerialException):\n",
    "            pass\n",
    "    return result\n",
    "\n",
    "print(serial_ports())"
   ]
  },
  {
   "cell_type": "code",
   "execution_count": null,
   "id": "9047181f",
   "metadata": {},
   "outputs": [],
   "source": []
  }
 ],
 "metadata": {
  "kernelspec": {
   "display_name": "Python 3.8.15 ('yarena')",
   "language": "python",
   "name": "python3"
  },
  "language_info": {
   "codemirror_mode": {
    "name": "ipython",
    "version": 3
   },
   "file_extension": ".py",
   "mimetype": "text/x-python",
   "name": "python",
   "nbconvert_exporter": "python",
   "pygments_lexer": "ipython3",
   "version": "3.8.16"
  },
  "vscode": {
   "interpreter": {
    "hash": "27e2dd11967a9905b8c55a0984dacbd5657c7ed6e2973115a70601318ae7fe89"
   }
  }
 },
 "nbformat": 4,
 "nbformat_minor": 5
}
