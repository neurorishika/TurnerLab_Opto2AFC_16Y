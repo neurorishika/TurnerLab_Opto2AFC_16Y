{
 "cells": [
  {
   "cell_type": "code",
   "execution_count": 1,
   "id": "a8d22869-98aa-4134-bc06-3fd2847851c5",
   "metadata": {},
   "outputs": [],
   "source": [
    "from led_controller import LEDController\n",
    "import time\n",
    "\n",
    "IR_INTENSITY = 50\n",
    "RED_INTENSITY = 100\n",
    "GREEN_INTENSITY = 25\n",
    "BLUE_INTENSITY = 25\n",
    "PULSE_WIDTH = 50\n",
    "PULSE_PERIOD = 100\n",
    "PULSE_COUNT = 5\n",
    "PULSE_DEADTIME = 0\n",
    "PULSE_DELAY = 0\n",
    "PULSE_REPEAT = 1"
   ]
  },
  {
   "cell_type": "code",
   "execution_count": 2,
   "id": "4354c840-5278-44f0-bafd-a7d097d100ba",
   "metadata": {},
   "outputs": [
    {
     "name": "stdout",
     "output_type": "stream",
     "text": [
      "Arena: 0 Pulse 50 100 5 0 0 1 R\n",
      "Arena: 1 Pulse 50 100 5 0 0 1 R\n",
      "Arena: 2 Pulse 50 100 5 0 0 1 R\n",
      "Arena: 3 Pulse 50 100 5 0 0 1 R\n",
      "Arena: 4 Pulse 50 100 5 0 0 1 R\n",
      "Arena: 5 Pulse 50 100 5 0 0 1 R\n",
      "Arena: 6 Pulse 50 100 5 0 0 1 R\n",
      "Arena: 7 Pulse 50 100 5 0 0 1 R\n",
      "Arena: 8 Pulse 50 100 5 0 0 1 R\n",
      "Arena: 9 Pulse 50 100 5 0 0 1 R\n",
      "Arena: 10 Pulse 50 100 5 0 0 1 R\n",
      "Arena: 11 Pulse 50 100 5 0 0 1 R\n",
      "Arena: 12 Pulse 50 100 5 0 0 1 R\n",
      "Arena: 13 Pulse 50 100 5 0 0 1 R\n",
      "Arena: 14 Pulse 50 100 5 0 0 1 R\n",
      "Arena: 15 Pulse 50 100 5 0 0 1 R\n"
     ]
    }
   ],
   "source": [
    "with LEDController() as LC:\n",
    "    LC.turn_on_backlight(100)\n",
    "\n",
    "    for arena in range(16):\n",
    "        time.sleep(0.5)\n",
    "        LC.led_stimulation(arena,b'R',RED_INTENSITY,PULSE_WIDTH,PULSE_PERIOD,PULSE_COUNT,PULSE_DEADTIME,PULSE_DELAY,PULSE_REPEAT,debug=True)\n",
    "    \n",
    "    time.sleep(1)"
   ]
  },
  {
   "cell_type": "code",
   "execution_count": 3,
   "id": "8786a78e-9284-4118-8024-e5c3c38de7ef",
   "metadata": {},
   "outputs": [
    {
     "data": {
      "text/plain": [
       "<led_controller.LEDController at 0x16916f73bb0>"
      ]
     },
     "execution_count": 3,
     "metadata": {},
     "output_type": "execute_result"
    }
   ],
   "source": [
    "LC = LEDController()\n",
    "LC.__enter__()"
   ]
  },
  {
   "cell_type": "code",
   "execution_count": 5,
   "id": "90c33e06",
   "metadata": {},
   "outputs": [],
   "source": [
    "LC.turn_on_backlight(15)"
   ]
  },
  {
   "cell_type": "code",
   "execution_count": 9,
   "id": "ee93aa10",
   "metadata": {},
   "outputs": [
    {
     "data": {
      "text/plain": [
       "7"
      ]
     },
     "execution_count": 9,
     "metadata": {},
     "output_type": "execute_result"
    }
   ],
   "source": [
    "LC.conns[1].write(b'RESET\\r')\n",
    "LC.conns[1].write(b'RED 20\\r')\n",
    "LC.conns[1].write(b'ON 0 0\\r')\n"
   ]
  },
  {
   "cell_type": "code",
   "execution_count": 9,
   "id": "26133d33-2391-400f-8a50-f6255e462853",
   "metadata": {},
   "outputs": [
    {
     "data": {
      "text/plain": [
       "6"
      ]
     },
     "execution_count": 9,
     "metadata": {},
     "output_type": "execute_result"
    }
   ],
   "source": [
    "LC.conns[2].write(b'RESET\\r')\n",
    "LC.conns[2].write(b'RED 0\\r')\n",
    "LC.conns[2].write(b'RED 20 0 1111\\r')\n",
    "LC.conns[2].write(b'RUN R\\r')\n"
   ]
  },
  {
   "cell_type": "code",
   "execution_count": 7,
   "id": "25e08602",
   "metadata": {},
   "outputs": [],
   "source": [
    "LC.set_led_stimulus_intensity(0,b'R',0)\n",
    "LC.set_led_stimulus_intensity(0,b'R',100)\n",
    "LC.run_led_stimulus(0)"
   ]
  },
  {
   "cell_type": "code",
   "execution_count": 11,
   "id": "c9fbef01",
   "metadata": {},
   "outputs": [
    {
     "data": {
      "text/plain": [
       "Serial<id=0x1c2c1d1eaf0, open=True>(port='COM4', baudrate=115200, bytesize=8, parity='N', stopbits=1, timeout=None, xonxoff=False, rtscts=False, dsrdtr=False)"
      ]
     },
     "execution_count": 11,
     "metadata": {},
     "output_type": "execute_result"
    }
   ],
   "source": [
    "LC.conns[1]"
   ]
  },
  {
   "cell_type": "code",
   "execution_count": 22,
   "id": "47248529",
   "metadata": {},
   "outputs": [
    {
     "data": {
      "text/plain": [
       "6"
      ]
     },
     "execution_count": 22,
     "metadata": {},
     "output_type": "execute_result"
    }
   ],
   "source": [
    "LC.conns[1].write(b'RED 0\\r')"
   ]
  },
  {
   "cell_type": "code",
   "execution_count": 11,
   "id": "ab86b16d",
   "metadata": {},
   "outputs": [],
   "source": [
    "LC.close()"
   ]
  },
  {
   "cell_type": "code",
   "execution_count": 4,
   "id": "8f4d746c-6ddd-4db1-a9ed-3b03db284a15",
   "metadata": {},
   "outputs": [
    {
     "ename": "ModuleNotFoundError",
     "evalue": "No module named 'cucim'",
     "output_type": "error",
     "traceback": [
      "\u001b[1;31m---------------------------------------------------------------------------\u001b[0m",
      "\u001b[1;31mModuleNotFoundError\u001b[0m                       Traceback (most recent call last)",
      "Input \u001b[1;32mIn [4]\u001b[0m, in \u001b[0;36m<cell line: 1>\u001b[1;34m()\u001b[0m\n\u001b[1;32m----> 1\u001b[0m \u001b[38;5;28;01mimport\u001b[39;00m \u001b[38;5;21;01mcucim\u001b[39;00m\n",
      "\u001b[1;31mModuleNotFoundError\u001b[0m: No module named 'cucim'"
     ]
    }
   ],
   "source": [
    "import cucim"
   ]
  },
  {
   "cell_type": "code",
   "execution_count": null,
   "id": "3f829337-90d8-452f-88e3-484083a7198a",
   "metadata": {},
   "outputs": [],
   "source": []
  }
 ],
 "metadata": {
  "kernelspec": {
   "display_name": "sixteenY",
   "language": "python",
   "name": "sixteeny"
  },
  "language_info": {
   "codemirror_mode": {
    "name": "ipython",
    "version": 3
   },
   "file_extension": ".py",
   "mimetype": "text/x-python",
   "name": "python",
   "nbconvert_exporter": "python",
   "pygments_lexer": "ipython3",
   "version": "3.8.13"
  }
 },
 "nbformat": 4,
 "nbformat_minor": 5
}
