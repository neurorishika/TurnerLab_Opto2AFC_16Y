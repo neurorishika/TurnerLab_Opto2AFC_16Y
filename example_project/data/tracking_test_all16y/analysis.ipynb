{
 "cells": [
  {
   "cell_type": "code",
   "execution_count": 10,
   "metadata": {},
   "outputs": [],
   "source": [
    "import numpy as np\n",
    "import json\n",
    "import os\n",
    "import matplotlib.pyplot as plt"
   ]
  },
  {
   "cell_type": "code",
   "execution_count": 11,
   "metadata": {},
   "outputs": [],
   "source": [
    "# load mask labelled points\n",
    "labelled_points = np.load(\"mask.npz\")[\"arm_keypoints\"]"
   ]
  },
  {
   "cell_type": "code",
   "execution_count": 13,
   "metadata": {},
   "outputs": [
    {
     "data": {
      "image/png": "[encoded data removed]",
      "text/plain": [
       "<Figure size 432x288 with 1 Axes>"
      ]
     },
     "metadata": {
      "needs_background": "light"
     },
     "output_type": "display_data"
    }
   ],
   "source": [
    "def euclidean_distance(point1, point2):\n",
    "    \"\"\"\n",
    "    Calculate the euclidean distance between two points\n",
    "    \"\"\"\n",
    "    return np.linalg.norm(point1 - point2)\n",
    "\n",
    "arm_length = 1.0\n",
    "arm_width = arm_length * np.mean([np.mean([\n",
    "    euclidean_distance(labelled_points[i][0],labelled_points[i][1]),\n",
    "    euclidean_distance(labelled_points[i][1],labelled_points[i][2]),\n",
    "    euclidean_distance(labelled_points[i][2],labelled_points[i][0])\n",
    "]) / np.mean([\n",
    "    euclidean_distance(labelled_points[i][3],(labelled_points[i][0]+labelled_points[i][1]+labelled_points[i][2])/3),\n",
    "    euclidean_distance(labelled_points[i][4],(labelled_points[i][0]+labelled_points[i][1]+labelled_points[i][2])/3),\n",
    "    euclidean_distance(labelled_points[i][5],(labelled_points[i][0]+labelled_points[i][1]+labelled_points[i][2])/3)\n",
    "]) for i in range(len(labelled_points))])\n",
    "\n",
    "reward_distance = 0.8\n",
    "origin = np.array([0.0, 0.0])\n",
    "\n",
    "# get three corners of a triangle\n",
    "k1 = origin + arm_width/np.sqrt(3) * np.array([np.cos(np.pi/2+2*np.pi/3), np.sin(np.pi/2+2*np.pi/3)])\n",
    "k2 = origin + arm_width/np.sqrt(3) * np.array([np.cos(np.pi/2+4*np.pi/3), np.sin(np.pi/2+4*np.pi/3)])\n",
    "k3 = origin + arm_width/np.sqrt(3) * np.array([np.cos(np.pi/2), np.sin(np.pi/2)])\n",
    "\n",
    "# get the endpoints of the arm\n",
    "k4 = origin + arm_length * np.array([np.cos(np.pi/6+2*np.pi/3), np.sin(np.pi/6+2*np.pi/3)])\n",
    "k5 = origin + arm_length * np.array([np.cos(np.pi/6+4*np.pi/3), np.sin(np.pi/6+4*np.pi/3)])\n",
    "k6 = origin + arm_length * np.array([np.cos(np.pi/6), np.sin(np.pi/6)])\n",
    "\n",
    "# plot the triangles\n",
    "for i,k in enumerate([k1, k2, k3, k4, k5, k6]):\n",
    "    plt.plot(k[0], k[1], 'o')\n",
    "    plt.text(k[0] + 0.05, k[1] + 0.05, str(i+1))\n",
    "\n",
    "plt.gca().set_aspect('equal')\n",
    "plt.box()\n",
    "plt.show()\n",
    "\n",
    "reference_points = np.array([k1, k2, k3, k4, k5, k6])"
   ]
  },
  {
   "cell_type": "code",
   "execution_count": 16,
   "metadata": {},
   "outputs": [
    {
     "data": {
      "image/png": "[encoded data removed]",
      "text/plain": [
       "<Figure size 432x288 with 1 Axes>"
      ]
     },
     "metadata": {
      "needs_background": "light"
     },
     "output_type": "display_data"
    }
   ],
   "source": [
    "from skimage.transform import estimate_transform, AffineTransform\n",
    "\n",
    "estimated_transforms = []\n",
    "for i in range(len(labelled_points)):\n",
    "    # get the points\n",
    "    points = labelled_points[i]\n",
    "    # get the affine transform\n",
    "    transform = estimate_transform(\"affine\", points, reference_points)\n",
    "    # add to the list\n",
    "    estimated_transforms.append(transform)\n",
    "    # plot the points\n",
    "    # plt.plot(points[:,0], points[:,1], 'o')\n",
    "    # plot the transformed points\n",
    "    plt.plot(transform(points)[:,0], transform(points)[:,1], '+')"
   ]
  },
  {
   "cell_type": "code",
   "execution_count": null,
   "metadata": {},
   "outputs": [],
   "source": []
  }
 ],
 "metadata": {
  "kernelspec": {
   "display_name": "Python 3.8.13 ('sixteenY')",
   "language": "python",
   "name": "python3"
  },
  "language_info": {
   "codemirror_mode": {
    "name": "ipython",
    "version": 3
   },
   "file_extension": ".py",
   "mimetype": "text/x-python",
   "name": "python",
   "nbconvert_exporter": "python",
   "pygments_lexer": "ipython3",
   "version": "3.8.13"
  },
  "orig_nbformat": 4,
  "vscode": {
   "interpreter": {
    "hash": "67aae60ec8f6fe06e39634395ee0531aa55542c9e083d021dea7dc74128634ed"
   }
  }
 },
 "nbformat": 4,
 "nbformat_minor": 2
}
